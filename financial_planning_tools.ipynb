{
 "cells": [
  {
   "cell_type": "markdown",
   "metadata": {},
   "source": [
    "# Financial Planning with APIs and Simulations\n",
    "\n",
    "In this Challenge, you’ll create two financial analysis tools by using a single Jupyter notebook:\n",
    "\n",
    "Part 1: A financial planner for emergencies. The members will be able to use this tool to visualize their current savings. The members can then determine if they have enough reserves for an emergency fund.\n",
    "\n",
    "Part 2: A financial planner for retirement. This tool will forecast the performance of their retirement portfolio in 30 years. To do this, the tool will make an Alpaca API call via the Alpaca SDK to get historical price data for use in Monte Carlo simulations.\n",
    "\n",
    "You’ll use the information from the Monte Carlo simulation to answer questions about the portfolio in your Jupyter notebook.\n",
    "\n"
   ]
  },
  {
   "cell_type": "code",
   "execution_count": 2,
   "metadata": {},
   "outputs": [],
   "source": [
    "# Import the required libraries and dependencies\n",
    "import os\n",
    "import requests\n",
    "import json\n",
    "import pandas as pd\n",
    "from dotenv import load_dotenv\n",
    "import alpaca_trade_api as tradeapi\n",
    "from MCForecastTools import MCSimulation\n",
    "\n",
    "%matplotlib inline"
   ]
  },
  {
   "cell_type": "code",
   "execution_count": 3,
   "metadata": {},
   "outputs": [
    {
     "data": {
      "text/plain": [
       "True"
      ]
     },
     "execution_count": 3,
     "metadata": {},
     "output_type": "execute_result"
    }
   ],
   "source": [
    "# Load the environment variables from the .env file\n",
    "#by calling the load_dotenv function\n",
    "load_dotenv()"
   ]
  },
  {
   "cell_type": "markdown",
   "metadata": {},
   "source": [
    "## Part 1: Create a Financial Planner for Emergencies"
   ]
  },
  {
   "cell_type": "markdown",
   "metadata": {},
   "source": [
    "### Evaluate the Cryptocurrency Wallet by Using the Requests Library\n",
    "\n",
    "In this section, you’ll determine the current value of a member’s cryptocurrency wallet. You’ll collect the current prices for the Bitcoin and Ethereum cryptocurrencies by using the Python Requests library. For the prototype, you’ll assume that the member holds the 1.2 Bitcoins (BTC) and 5.3 Ethereum coins (ETH). To do all this, complete the following steps:\n",
    "\n",
    "1. Create a variable named `monthly_income`, and set its value to `12000`.\n",
    "\n",
    "2. Use the Requests library to get the current price (in US dollars) of Bitcoin (BTC) and Ethereum (ETH) by using the API endpoints that the starter code supplies.\n",
    "\n",
    "3. Navigate the JSON response object to access the current price of each coin, and store each in a variable.\n",
    "\n",
    "    > **Hint** Note the specific identifier for each cryptocurrency in the API JSON response. The Bitcoin identifier is `1`, and the Ethereum identifier is `1027`.\n",
    "\n",
    "4. Calculate the value, in US dollars, of the current amount of each cryptocurrency and of the entire cryptocurrency wallet.\n",
    "\n"
   ]
  },
  {
   "cell_type": "code",
   "execution_count": 4,
   "metadata": {},
   "outputs": [],
   "source": [
    "# The current number of coins for each cryptocurrency asset held in the portfolio.\n",
    "btc_coins = 1.2\n",
    "eth_coins = 5.3"
   ]
  },
  {
   "cell_type": "markdown",
   "metadata": {},
   "source": [
    "#### Step 1: Create a variable named `monthly_income`, and set its value to `12000`."
   ]
  },
  {
   "cell_type": "code",
   "execution_count": 5,
   "metadata": {},
   "outputs": [],
   "source": [
    "# The monthly amount for the member's household income\n",
    "monthly_income = 12000\n"
   ]
  },
  {
   "cell_type": "markdown",
   "metadata": {},
   "source": [
    "#### Review the endpoint URLs for the API calls to Free Crypto API in order to get the current pricing information for both BTC and ETH."
   ]
  },
  {
   "cell_type": "code",
   "execution_count": 6,
   "metadata": {},
   "outputs": [],
   "source": [
    "# The Free Crypto API Call endpoint URLs for the held cryptocurrency assets\n",
    "btc_url = \"https://api.alternative.me/v2/ticker/Bitcoin/?convert=USD\"\n",
    "eth_url = \"https://api.alternative.me/v2/ticker/Ethereum/?convert=USD\""
   ]
  },
  {
   "cell_type": "markdown",
   "metadata": {},
   "source": [
    "#### Step 2. Use the Requests library to get the current price (in US dollars) of Bitcoin (BTC) and Ethereum (ETH) by using the API endpoints that the starter code supplied."
   ]
  },
  {
   "cell_type": "code",
   "execution_count": 10,
   "metadata": {},
   "outputs": [
    {
     "name": "stdout",
     "output_type": "stream",
     "text": [
      "{\"data\": {\"1\": {\"id\": 1, \"name\": \"Bitcoin\", \"symbol\": \"BTC\", \"website_slug\": \"bitcoin\", \"rank\": 1, \"circulating_supply\": 19095450, \"total_supply\": 19095450, \"max_supply\": 21000000, \"quotes\": {\"USD\": {\"price\": 21037.0, \"volume_24h\": 42672356096, \"market_cap\": 401556362920, \"percentage_change_1h\": -1.00652127442027, \"percentage_change_24h\": 0.0975652483821761, \"percentage_change_7d\": -3.75947963148037, \"percent_change_1h\": -1.00652127442027, \"percent_change_24h\": 0.0975652483821761, \"percent_change_7d\": -3.75947963148037}}, \"last_updated\": 1658004290}}, \"metadata\": {\"timestamp\": 1658004290, \"num_cryptocurrencies\": 3116, \"error\": null}}\n"
     ]
    }
   ],
   "source": [
    "# Using the Python requests library, make an API call to access the current price of BTC\n",
    "btc_response = requests.get(btc_url).json()\n",
    "\n",
    "# Use the json.dumps function to review the response data from the API call\n",
    "# Use the indent and sort_keys parameters to make the response object readable\n",
    "print(json.dumps(btc_response))\n"
   ]
  },
  {
   "cell_type": "code",
   "execution_count": 14,
   "metadata": {},
   "outputs": [
    {
     "name": "stdout",
     "output_type": "stream",
     "text": [
      "{'data': {'1027': {'id': 1027, 'name': 'Ethereum', 'symbol': 'ETH', 'website_slug': 'ethereum', 'rank': 2, 'circulating_supply': 119706004, 'total_supply': 119706004, 'max_supply': 119705332, 'quotes': {'USD': {'price': 1328.12, 'volume_24h': 18572712523, 'market_cap': 158955612713, 'percentage_change_1h': -0.981252211244058, 'percentage_change_24h': 5.08951454291404, 'percentage_change_7d': 7.66961149098593, 'percent_change_1h': -0.981252211244058, 'percent_change_24h': 5.08951454291404, 'percent_change_7d': 7.66961149098593}}, 'last_updated': 1658004234}}, 'metadata': {'timestamp': 1658004234, 'num_cryptocurrencies': 3116, 'error': None}}\n"
     ]
    }
   ],
   "source": [
    "# Using the Python requests library, make an API call to access the current price ETH\n",
    "eth_response = requests.get(eth_url).json()\n",
    "\n",
    "# Use the json.dumps function to review the response data from the API call\n",
    "# Use the indent and sort_keys parameters to make the response object readable\n",
    "print(eth_response)\n"
   ]
  },
  {
   "cell_type": "markdown",
   "metadata": {},
   "source": [
    "#### Step 3: Navigate the JSON response object to access the current price of each coin, and store each in a variable."
   ]
  },
  {
   "cell_type": "code",
   "execution_count": 20,
   "metadata": {},
   "outputs": [
    {
     "name": "stdout",
     "output_type": "stream",
     "text": [
      "The current price of BTC is $21037.0\n"
     ]
    }
   ],
   "source": [
    "# Navigate the BTC response object to access the current price of BTC\n",
    "btc_price = btc_response['data']['1']['quotes']['USD']['price']\n",
    "\n",
    "\n",
    "# Print the current price of BTC\n",
    "print(f\"The current price of BTC is ${btc_price}\")\n"
   ]
  },
  {
   "cell_type": "code",
   "execution_count": 19,
   "metadata": {},
   "outputs": [
    {
     "name": "stdout",
     "output_type": "stream",
     "text": [
      "The current price of ETH is $1328.12\n"
     ]
    }
   ],
   "source": [
    "# Navigate the BTC response object to access the current price of ETH\n",
    "eth_price = eth_response['data']['1027']['quotes']['USD']['price']\n",
    "\n",
    "# Print the current price of ETH\n",
    "print(f\"The current price of ETH is ${eth_price}\")\n"
   ]
  },
  {
   "cell_type": "markdown",
   "metadata": {},
   "source": [
    "### Step 4: Calculate the value, in US dollars, of the current amount of each cryptocurrency and of the entire cryptocurrency wallet."
   ]
  },
  {
   "cell_type": "code",
   "execution_count": 22,
   "metadata": {},
   "outputs": [
    {
     "name": "stdout",
     "output_type": "stream",
     "text": [
      "The current value of your BTC position is: $ 25244.40\n"
     ]
    }
   ],
   "source": [
    "# Compute the current value of the BTC holding \n",
    "btc_value = btc_price * 1.2\n",
    "# Print current value of your holding in BTC\n",
    "print(f\"The current value of your BTC position is: ${btc_value: .2f}\")\n"
   ]
  },
  {
   "cell_type": "code",
   "execution_count": 23,
   "metadata": {},
   "outputs": [
    {
     "name": "stdout",
     "output_type": "stream",
     "text": [
      "The current value of your ETH position is: $ 7039.04\n"
     ]
    }
   ],
   "source": [
    "# Compute the current value of the ETH holding \n",
    "eth_value = eth_price * 5.3\n",
    "\n",
    "# Print current value of your holding in ETH\n",
    "print(f\"The current value of your ETH position is: ${eth_value: .2f}\")\n"
   ]
  },
  {
   "cell_type": "code",
   "execution_count": 24,
   "metadata": {},
   "outputs": [
    {
     "name": "stdout",
     "output_type": "stream",
     "text": [
      "The total value of your crypto position is: $ 32283.44\n"
     ]
    }
   ],
   "source": [
    "# Compute the total value of the cryptocurrency wallet\n",
    "# Add the value of the BTC holding to the value of the ETH holding\n",
    "total_crypto_wallet = eth_value + btc_value\n",
    "\n",
    "# Print current cryptocurrency wallet balance\n",
    "print(f\"The total value of your crypto position is: ${total_crypto_wallet: .2f}\")\n"
   ]
  },
  {
   "cell_type": "markdown",
   "metadata": {},
   "source": [
    "### Evaluate the Stock and Bond Holdings by Using the Alpaca SDK\n",
    "\n",
    "In this section, you’ll determine the current value of a member’s stock and bond holdings. You’ll make an API call to Alpaca via the Alpaca SDK to get the current closing prices of the SPDR S&P 500 ETF Trust (ticker: SPY) and of the iShares Core US Aggregate Bond ETF (ticker: AGG). For the prototype, assume that the member holds 110 shares of SPY, which represents the stock portion of their portfolio, and 200 shares of AGG, which represents the bond portion. To do all this, complete the following steps:\n",
    "\n",
    "1. In the `Starter_Code` folder, create an environment file (`.env`) to store the values of your Alpaca API key and Alpaca secret key.\n",
    "\n",
    "2. Set the variables for the Alpaca API and secret keys. Using the Alpaca SDK, create the Alpaca `tradeapi.REST` object. In this object, include the parameters for the Alpaca API key, the secret key, and the version number.\n",
    "\n",
    "3. Set the following parameters for the Alpaca API call:\n",
    "\n",
    "    - `tickers`: Use the tickers for the member’s stock and bond holdings.\n",
    "\n",
    "    - `timeframe`: Use a time frame of one day.\n",
    "\n",
    "    - `start_date` and `end_date`: Use the same date for these parameters, and format them with the date of the previous weekday (or `2020-08-07`). This is because you want the one closing price for the most-recent trading day.\n",
    "\n",
    "4. Get the current closing prices for `SPY` and `AGG` by using the Alpaca `get_bars` function. Format the response as a Pandas DataFrame by including the `df` property at the end of the `get_bars` function.\n",
    "\n",
    "5. Navigating the Alpaca response DataFrame, select the `SPY` and `AGG` closing prices, and store them as variables.\n",
    "\n",
    "6. Calculate the value, in US dollars, of the current amount of shares in each of the stock and bond portions of the portfolio, and print the results.\n"
   ]
  },
  {
   "cell_type": "markdown",
   "metadata": {},
   "source": [
    "#### Review the total number of shares held in both (SPY) and (AGG)."
   ]
  },
  {
   "cell_type": "code",
   "execution_count": 25,
   "metadata": {},
   "outputs": [],
   "source": [
    "# Current amount of shares held in both the stock (SPY) and bond (AGG) portion of the portfolio.\n",
    "spy_shares = 110\n",
    "agg_shares = 200\n"
   ]
  },
  {
   "cell_type": "markdown",
   "metadata": {},
   "source": [
    "#### Step 1: In the `Starter_Code` folder, create an environment file (`.env`) to store the values of your Alpaca API key and Alpaca secret key."
   ]
  },
  {
   "cell_type": "markdown",
   "metadata": {},
   "source": [
    "#### Step 2: Set the variables for the Alpaca API and secret keys. Using the Alpaca SDK, create the Alpaca `tradeapi.REST` object. In this object, include the parameters for the Alpaca API key, the secret key, and the version number."
   ]
  },
  {
   "cell_type": "code",
   "execution_count": 30,
   "metadata": {},
   "outputs": [],
   "source": [
    "# Set the variables for the Alpaca API and secret keys\n",
    "alpaca_api_key = os.getenv(\"AlPACA_API_KEY\")\n",
    "alpaca_secret_key = os.getenv(\"AlPACA_SECRET_KEY\")\n",
    " \n",
    "# Create the Alpaca tradeapi.REST object\n",
    "alpaca = tradeapi.REST(\n",
    "    alpaca_api_key,\n",
    "    alpaca_secret_key,\n",
    "    api_version=\"v2\")"
   ]
  },
  {
   "cell_type": "markdown",
   "metadata": {},
   "source": [
    "#### Step 3: Set the following parameters for the Alpaca API call:\n",
    "\n",
    "- `tickers`: Use the tickers for the member’s stock and bond holdings.\n",
    "\n",
    "- `timeframe`: Use a time frame of one day.\n",
    "\n",
    "- `start_date` and `end_date`: Use the same date for these parameters, and format them with the date of the previous weekday (or `2020-08-07`). This is because you want the one closing price for the most-recent trading day.\n"
   ]
  },
  {
   "cell_type": "code",
   "execution_count": 120,
   "metadata": {},
   "outputs": [],
   "source": [
    "# Set the tickers for both the bond and stock portion of the portfolio\n",
    "tickers = ['SPY', 'AGG']\n",
    "\n",
    "# Set timeframe to 1Day\n",
    "timeframe = '1D'\n",
    "\n",
    "# Format current date as ISO format\n",
    "# Set both the start and end date at the date of your prior weekday \n",
    "# This will give you the closing price of the previous trading day\n",
    "# Alternatively you can use a start and end date of 2020-08-07\n",
    "start_date = pd.Timestamp(\"2022-07-15\", tz=\"America/New_York\").isoformat()\n",
    "end_date = pd.Timestamp(\"2022-07-15\", tz=\"America/New_York\").isoformat()\n"
   ]
  },
  {
   "cell_type": "markdown",
   "metadata": {},
   "source": [
    "#### Step 4: Get the current closing prices for `SPY` and `AGG` by using the Alpaca `get_bars` function. Format the response as a Pandas DataFrame by including the `df` property at the end of the `get_bars` function."
   ]
  },
  {
   "cell_type": "code",
   "execution_count": 123,
   "metadata": {},
   "outputs": [
    {
     "data": {
      "text/html": [
       "<div>\n",
       "<style scoped>\n",
       "    .dataframe tbody tr th:only-of-type {\n",
       "        vertical-align: middle;\n",
       "    }\n",
       "\n",
       "    .dataframe tbody tr th {\n",
       "        vertical-align: top;\n",
       "    }\n",
       "\n",
       "    .dataframe thead tr th {\n",
       "        text-align: left;\n",
       "    }\n",
       "\n",
       "    .dataframe thead tr:last-of-type th {\n",
       "        text-align: right;\n",
       "    }\n",
       "</style>\n",
       "<table border=\"1\" class=\"dataframe\">\n",
       "  <thead>\n",
       "    <tr>\n",
       "      <th></th>\n",
       "      <th colspan=\"7\" halign=\"left\">SPY</th>\n",
       "      <th colspan=\"7\" halign=\"left\">AGG</th>\n",
       "    </tr>\n",
       "    <tr>\n",
       "      <th></th>\n",
       "      <th>open</th>\n",
       "      <th>high</th>\n",
       "      <th>low</th>\n",
       "      <th>close</th>\n",
       "      <th>volume</th>\n",
       "      <th>trade_count</th>\n",
       "      <th>vwap</th>\n",
       "      <th>open</th>\n",
       "      <th>high</th>\n",
       "      <th>low</th>\n",
       "      <th>close</th>\n",
       "      <th>volume</th>\n",
       "      <th>trade_count</th>\n",
       "      <th>vwap</th>\n",
       "    </tr>\n",
       "    <tr>\n",
       "      <th>timestamp</th>\n",
       "      <th></th>\n",
       "      <th></th>\n",
       "      <th></th>\n",
       "      <th></th>\n",
       "      <th></th>\n",
       "      <th></th>\n",
       "      <th></th>\n",
       "      <th></th>\n",
       "      <th></th>\n",
       "      <th></th>\n",
       "      <th></th>\n",
       "      <th></th>\n",
       "      <th></th>\n",
       "      <th></th>\n",
       "    </tr>\n",
       "  </thead>\n",
       "  <tbody>\n",
       "    <tr>\n",
       "      <th>2022-07-15 04:00:00+00:00</th>\n",
       "      <td>382.62</td>\n",
       "      <td>385.25</td>\n",
       "      <td>380.54</td>\n",
       "      <td>385.13</td>\n",
       "      <td>79318992</td>\n",
       "      <td>488124</td>\n",
       "      <td>383.334989</td>\n",
       "      <td>101.94</td>\n",
       "      <td>102.35</td>\n",
       "      <td>101.9</td>\n",
       "      <td>102.25</td>\n",
       "      <td>8440151</td>\n",
       "      <td>27300</td>\n",
       "      <td>102.214854</td>\n",
       "    </tr>\n",
       "  </tbody>\n",
       "</table>\n",
       "</div>"
      ],
      "text/plain": [
       "                              SPY                                    \\\n",
       "                             open    high     low   close    volume   \n",
       "timestamp                                                             \n",
       "2022-07-15 04:00:00+00:00  382.62  385.25  380.54  385.13  79318992   \n",
       "\n",
       "                                                      AGG                 \\\n",
       "                          trade_count        vwap    open    high    low   \n",
       "timestamp                                                                  \n",
       "2022-07-15 04:00:00+00:00      488124  383.334989  101.94  102.35  101.9   \n",
       "\n",
       "                                                                    \n",
       "                            close   volume trade_count        vwap  \n",
       "timestamp                                                           \n",
       "2022-07-15 04:00:00+00:00  102.25  8440151       27300  102.214854  "
      ]
     },
     "metadata": {},
     "output_type": "display_data"
    },
    {
     "data": {
      "text/plain": [
       "DatetimeIndex(['2022-07-15 04:00:00+00:00'], dtype='datetime64[ns, UTC]', name='timestamp', freq=None)"
      ]
     },
     "metadata": {},
     "output_type": "display_data"
    }
   ],
   "source": [
    "# Use the Alpaca get_bars function to get current closing prices the portfolio\n",
    "# Be sure to set the `df` property after the function to format the response object as a DataFrame\n",
    "prices_df = alpaca.get_bars(\n",
    "    tickers,\n",
    "    timeframe,\n",
    "    start=start_date,\n",
    "    end=end_date\n",
    ").df\n",
    "\n",
    "\n",
    "# Reorganize the DataFrame\n",
    "# Separate ticker data\n",
    "SPY = prices_df[prices_df['symbol']=='SPY'].drop('symbol', axis=1)\n",
    "AGG = prices_df[prices_df['symbol']=='AGG'].drop('symbol', axis=1)\n",
    "\n",
    "# Concatenate the ticker DataFrames\n",
    "df = pd.concat([SPY, AGG], axis=1, keys=['SPY','AGG'])\n",
    "\n",
    "# Review the first 5 rows of the Alpaca DataFrame\n",
    "#display(prices_df.head())\n",
    "#display(SPY.head())\n",
    "display(df.head())\n",
    "display(df.index)\n"
   ]
  },
  {
   "cell_type": "markdown",
   "metadata": {},
   "source": [
    "#### Step 5: Navigating the Alpaca response DataFrame, select the `SPY` and `AGG` closing prices, and store them as variables."
   ]
  },
  {
   "cell_type": "code",
   "execution_count": 124,
   "metadata": {},
   "outputs": [
    {
     "name": "stdout",
     "output_type": "stream",
     "text": [
      "102.25\n"
     ]
    }
   ],
   "source": [
    "# Access the closing price for AGG from the Alpaca DataFrame\n",
    "# Converting the value to a floating point number\n",
    "agg_close_price = df['AGG'].loc['2022-07-15 04:00:00+00:00', 'close']\n",
    "# Print the AGG closing price\n",
    "print(agg_close_price)\n"
   ]
  },
  {
   "cell_type": "code",
   "execution_count": 125,
   "metadata": {},
   "outputs": [
    {
     "name": "stdout",
     "output_type": "stream",
     "text": [
      "385.13\n"
     ]
    }
   ],
   "source": [
    "# Access the closing price for SPY from the Alpaca DataFrame\n",
    "# Converting the value to a floating point number\n",
    "spy_close_price = df['SPY'].loc['2022-07-15 04:00:00+00:00', 'close']\n",
    "# Print the SPY closing price\n",
    "print(spy_close_price)\n"
   ]
  },
  {
   "cell_type": "markdown",
   "metadata": {},
   "source": [
    "#### Step 6: Calculate the value, in US dollars, of the current amount of shares in each of the stock and bond portions of the portfolio, and print the results."
   ]
  },
  {
   "cell_type": "code",
   "execution_count": 126,
   "metadata": {},
   "outputs": [
    {
     "name": "stdout",
     "output_type": "stream",
     "text": [
      "The current value of the bond portfolio is: $ 20450.00\n"
     ]
    }
   ],
   "source": [
    "# Calculate the current value of the bond portion of the portfolio\n",
    "agg_value = agg_close_price * 200\n",
    "\n",
    "# Print the current value of the bond portfolio\n",
    "print(f\"The current value of the bond portfolio is: ${agg_value: .2f}\")\n",
    "\n"
   ]
  },
  {
   "cell_type": "code",
   "execution_count": 127,
   "metadata": {},
   "outputs": [
    {
     "name": "stdout",
     "output_type": "stream",
     "text": [
      "The current value of the spy portfolio is: $ 42364.30\n"
     ]
    }
   ],
   "source": [
    "# Calculate the current value of the stock portion of the portfolio\n",
    "spy_value = spy_close_price*110\n",
    "\n",
    "# Print the current value of the stock portfolio\n",
    "print(f\"The current value of the spy portfolio is: ${spy_value: .2f}\")\n"
   ]
  },
  {
   "cell_type": "code",
   "execution_count": 128,
   "metadata": {},
   "outputs": [
    {
     "name": "stdout",
     "output_type": "stream",
     "text": [
      "The current value of the stock and bond portfolio is: $ 62814.30\n"
     ]
    }
   ],
   "source": [
    "# Calculate the total value of the stock and bond portion of the portfolio\n",
    "total_stocks_bonds = spy_value+agg_value\n",
    "\n",
    "# Print the current balance of the stock and bond portion of the portfolio\n",
    "print(f\"The current value of the stock and bond portfolio is: ${total_stocks_bonds: .2f}\")\n"
   ]
  },
  {
   "cell_type": "code",
   "execution_count": 129,
   "metadata": {},
   "outputs": [
    {
     "name": "stdout",
     "output_type": "stream",
     "text": [
      "The current value of the entire portfolio is: $ 95097.74\n"
     ]
    }
   ],
   "source": [
    "# Calculate the total value of the member's entire savings portfolio\n",
    "# Add the value of the cryptocurrency walled to the value of the total stocks and bonds\n",
    "total_portfolio = total_crypto_wallet+total_stocks_bonds\n",
    "\n",
    "# Print current cryptocurrency wallet balance\n",
    "print(f\"The current value of the entire portfolio is: ${total_portfolio: .2f}\")\n"
   ]
  },
  {
   "cell_type": "markdown",
   "metadata": {},
   "source": [
    "### Evaluate the Emergency Fund\n",
    "\n",
    "In this section, you’ll use the valuations for the cryptocurrency wallet and for the stock and bond portions of the portfolio to determine if the credit union member has enough savings to build an emergency fund into their financial plan. To do this, complete the following steps:\n",
    "\n",
    "1. Create a Python list named `savings_data` that has two elements. The first element contains the total value of the cryptocurrency wallet. The second element contains the total value of the stock and bond portions of the portfolio.\n",
    "\n",
    "2. Use the `savings_data` list to create a Pandas DataFrame named `savings_df`, and then display this DataFrame. The function to create the DataFrame should take the following three parameters:\n",
    "\n",
    "    - `savings_data`: Use the list that you just created.\n",
    "\n",
    "    - `columns`: Set this parameter equal to a Python list with a single value called `amount`.\n",
    "\n",
    "    - `index`: Set this parameter equal to a Python list with the values of `crypto` and `stock/bond`.\n",
    "\n",
    "3. Use the `savings_df` DataFrame to plot a pie chart that visualizes the composition of the member’s portfolio. The y-axis of the pie chart uses `amount`. Be sure to add a title.\n",
    "\n",
    "4. Using Python, determine if the current portfolio has enough to create an emergency fund as part of the member’s financial plan. Ideally, an emergency fund should equal to three times the member’s monthly income. To do this, implement the following steps:\n",
    "\n",
    "    1. Create a variable named `emergency_fund_value`, and set it equal to three times the value of the member’s `monthly_income` of $12000. (You set this earlier in Part 1).\n",
    "\n",
    "    2. Create a series of three if statements to determine if the member’s total portfolio is large enough to fund the emergency portfolio:\n",
    "\n",
    "        1. If the total portfolio value is greater than the emergency fund value, display a message congratulating the member for having enough money in this fund.\n",
    "\n",
    "        2. Else if the total portfolio value is equal to the emergency fund value, display a message congratulating the member on reaching this important financial goal.\n",
    "\n",
    "        3. Else the total portfolio is less than the emergency fund value, so display a message showing how many dollars away the member is from reaching the goal. (Subtract the total portfolio value from the emergency fund value.)\n"
   ]
  },
  {
   "cell_type": "markdown",
   "metadata": {},
   "source": [
    "#### Step 1: Create a Python list named `savings_data` that has two elements. The first element contains the total value of the cryptocurrency wallet. The second element contains the total value of the stock and bond portions of the portfolio."
   ]
  },
  {
   "cell_type": "code",
   "execution_count": 130,
   "metadata": {},
   "outputs": [
    {
     "data": {
      "text/plain": [
       "[32283.435999999998, 62814.3]"
      ]
     },
     "execution_count": 130,
     "metadata": {},
     "output_type": "execute_result"
    }
   ],
   "source": [
    "# Consolidate financial assets data into a Python list\n",
    "savings_data = [total_crypto_wallet,total_stocks_bonds]\n",
    "\n",
    "# Review the Python list savings_data\n",
    "savings_data\n",
    "    "
   ]
  },
  {
   "cell_type": "markdown",
   "metadata": {},
   "source": [
    "#### Step 2: Use the `savings_data` list to create a Pandas DataFrame named `savings_df`, and then display this DataFrame. The function to create the DataFrame should take the following three parameters:\n",
    "\n",
    "- `savings_data`: Use the list that you just created.\n",
    "\n",
    "- `columns`: Set this parameter equal to a Python list with a single value called `amount`.\n",
    "\n",
    "- `index`: Set this parameter equal to a Python list with the values of `crypto` and `stock/bond`.\n"
   ]
  },
  {
   "cell_type": "code",
   "execution_count": 131,
   "metadata": {},
   "outputs": [
    {
     "data": {
      "text/html": [
       "<div>\n",
       "<style scoped>\n",
       "    .dataframe tbody tr th:only-of-type {\n",
       "        vertical-align: middle;\n",
       "    }\n",
       "\n",
       "    .dataframe tbody tr th {\n",
       "        vertical-align: top;\n",
       "    }\n",
       "\n",
       "    .dataframe thead th {\n",
       "        text-align: right;\n",
       "    }\n",
       "</style>\n",
       "<table border=\"1\" class=\"dataframe\">\n",
       "  <thead>\n",
       "    <tr style=\"text-align: right;\">\n",
       "      <th></th>\n",
       "      <th>Amount</th>\n",
       "    </tr>\n",
       "  </thead>\n",
       "  <tbody>\n",
       "    <tr>\n",
       "      <th>Total Crypto Wallet</th>\n",
       "      <td>32283.436</td>\n",
       "    </tr>\n",
       "    <tr>\n",
       "      <th>Total Stocks Bonds</th>\n",
       "      <td>62814.300</td>\n",
       "    </tr>\n",
       "  </tbody>\n",
       "</table>\n",
       "</div>"
      ],
      "text/plain": [
       "                        Amount\n",
       "Total Crypto Wallet  32283.436\n",
       "Total Stocks Bonds   62814.300"
      ]
     },
     "execution_count": 131,
     "metadata": {},
     "output_type": "execute_result"
    }
   ],
   "source": [
    "# Create a Pandas DataFrame called savings_df \n",
    "savings_df = pd.DataFrame(savings_data)\n",
    "savings_df.columns=['Amount']\n",
    "savings_df.index = ['Total Crypto Wallet','Total Stocks Bonds']\n",
    "# Display the savings_df DataFrame\n",
    "savings_df\n"
   ]
  },
  {
   "cell_type": "markdown",
   "metadata": {},
   "source": [
    "#### Step 3: Use the `savings_df` DataFrame to plot a pie chart that visualizes the composition of the member’s portfolio. The y-axis of the pie chart uses `amount`. Be sure to add a title."
   ]
  },
  {
   "cell_type": "code",
   "execution_count": 132,
   "metadata": {},
   "outputs": [
    {
     "data": {
      "text/plain": [
       "<AxesSubplot:ylabel='Amount'>"
      ]
     },
     "execution_count": 132,
     "metadata": {},
     "output_type": "execute_result"
    },
    {
     "data": {
      "image/png": "[encoded data removed]",
      "text/plain": [
       "<Figure size 1080x792 with 1 Axes>"
      ]
     },
     "metadata": {},
     "output_type": "display_data"
    }
   ],
   "source": [
    "# Plot the total value of the member's portfolio (crypto and stock/bond) in a pie chart\n",
    "savings_df.plot(figsize=(15,11),kind='pie', y='Amount')\n"
   ]
  },
  {
   "cell_type": "markdown",
   "metadata": {},
   "source": [
    "#### Step 4: Using Python, determine if the current portfolio has enough to create an emergency fund as part of the member’s financial plan. Ideally, an emergency fund should equal to three times the member’s monthly income. To do this, implement the following steps:\n",
    "\n",
    "Step 1. Create a variable named `emergency_fund_value`, and set it equal to three times the value of the member’s `monthly_income` of 12000. (You set this earlier in Part 1).\n",
    "\n",
    "Step 2. Create a series of three if statements to determine if the member’s total portfolio is large enough to fund the emergency portfolio:\n",
    "\n",
    "* If the total portfolio value is greater than the emergency fund value, display a message congratulating the member for having enough money in this fund.\n",
    "\n",
    "* Else if the total portfolio value is equal to the emergency fund value, display a message congratulating the member on reaching this important financial goal.\n",
    "\n",
    "* Else the total portfolio is less than the emergency fund value, so display a message showing how many dollars away the member is from reaching the goal. (Subtract the total portfolio value from the emergency fund value.)\n"
   ]
  },
  {
   "cell_type": "markdown",
   "metadata": {},
   "source": [
    "##### Step 4-1: Create a variable named `emergency_fund_value`, and set it equal to three times the value of the member’s `monthly_income` of 12000. (You set this earlier in Part 1)."
   ]
  },
  {
   "cell_type": "code",
   "execution_count": 133,
   "metadata": {},
   "outputs": [],
   "source": [
    "# Create a variable named emergency_fund_value\n",
    "emergency_fund_value = monthly_income * 3\n"
   ]
  },
  {
   "cell_type": "markdown",
   "metadata": {},
   "source": [
    "##### Step 4-2: Create a series of three if statements to determine if the member’s total portfolio is large enough to fund the emergency portfolio:\n",
    "\n",
    "* If the total portfolio value is greater than the emergency fund value, display a message congratulating the member for having enough money in this fund.\n",
    "\n",
    "* Else if the total portfolio value is equal to the emergency fund value, display a message congratulating the member on reaching this important financial goal.\n",
    "\n",
    "* Else the total portfolio is less than the emergency fund value, so display a message showing how many dollars away the member is from reaching the goal. (Subtract the total portfolio value from the emergency fund value.)"
   ]
  },
  {
   "cell_type": "code",
   "execution_count": 134,
   "metadata": {},
   "outputs": [
    {
     "name": "stdout",
     "output_type": "stream",
     "text": [
      "Congrats you have enough money in this fund.\n"
     ]
    }
   ],
   "source": [
    "# Evaluate the possibility of creating an emergency fund with 3 conditions:\n",
    "if total_portfolio > emergency_fund_value:\n",
    "    print(\"Congrats you have enough money in this fund.\")\n",
    "    \n",
    "elif total_portfolio == emergency_fund_value:\n",
    "    print(\"Congrats on reaching this important financial goal of having an emergency savings.\")\n",
    "        \n",
    "else:\n",
    "    print(f\"You are ${emergency_fund_value-total_portfolio: .2f} from reaching your goal for your emergency savings.\")\n",
    "        \n",
    "    \n",
    "\n",
    "\n"
   ]
  },
  {
   "cell_type": "code",
   "execution_count": 187,
   "metadata": {},
   "outputs": [
    {
     "name": "stdout",
     "output_type": "stream",
     "text": [
      "Congrats you have enough money in this fund.\n",
      "Congrats on reaching this important financial goal of having an emergency savings.\n",
      "You are $-59097.74 from reaching your goal for your emergency savings.\n"
     ]
    }
   ],
   "source": [
    "print(\"Congrats you have enough money in this fund.\")\n",
    "print(\"Congrats on reaching this important financial goal of having an emergency savings.\")\n",
    "print(f\"You are ${emergency_fund_value-total_portfolio: .2f} from reaching your goal for your emergency savings.\")\n"
   ]
  },
  {
   "cell_type": "markdown",
   "metadata": {},
   "source": [
    "## Part 2: Create a Financial Planner for Retirement"
   ]
  },
  {
   "cell_type": "markdown",
   "metadata": {},
   "source": [
    "### Create the Monte Carlo Simulation\n",
    "\n",
    "In this section, you’ll use the MCForecastTools library to create a Monte Carlo simulation for the member’s savings portfolio. To do this, complete the following steps:\n",
    "\n",
    "1. Make an API call via the Alpaca SDK to get 3 years of historical closing prices for a traditional 60/40 portfolio split: 60% stocks (SPY) and 40% bonds (AGG).\n",
    "\n",
    "2. Run a Monte Carlo simulation of 500 samples and 30 years for the 60/40 portfolio, and then plot the results.The following image shows the overlay line plot resulting from a simulation with these characteristics. However, because a random number generator is used to run each live Monte Carlo simulation, your image will differ slightly from this exact image:\n",
    "\n",
    "![A screenshot depicts the resulting plot.](Images/5-4-monte-carlo-line-plot.png)\n",
    "\n",
    "3. Plot the probability distribution of the Monte Carlo simulation. Plot the probability distribution of the Monte Carlo simulation. The following image shows the histogram plot resulting from a simulation with these characteristics. However, because a random number generator is used to run each live Monte Carlo simulation, your image will differ slightly from this exact image:\n",
    "\n",
    "![A screenshot depicts the histogram plot.](Images/5-4-monte-carlo-histogram.png)\n",
    "\n",
    "4. Generate the summary statistics for the Monte Carlo simulation.\n",
    "\n"
   ]
  },
  {
   "cell_type": "markdown",
   "metadata": {},
   "source": [
    "#### Step 1: Make an API call via the Alpaca SDK to get 3 years of historical closing prices for a traditional 60/40 portfolio split: 60% stocks (SPY) and 40% bonds (AGG)."
   ]
  },
  {
   "cell_type": "code",
   "execution_count": 135,
   "metadata": {},
   "outputs": [],
   "source": [
    "# Set start and end dates of 3 years back from your current date\n",
    "# Alternatively, you can use an end date of 2020-08-07 and work 3 years back from that date \n",
    "start_date = pd.Timestamp(\"2019-07-15\", tz=\"America/New_York\").isoformat()\n",
    "end_date = pd.Timestamp(\"2022-07-15\", tz=\"America/New_York\").isoformat()"
   ]
  },
  {
   "cell_type": "code",
   "execution_count": 150,
   "metadata": {},
   "outputs": [
    {
     "data": {
      "text/html": [
       "<div>\n",
       "<style scoped>\n",
       "    .dataframe tbody tr th:only-of-type {\n",
       "        vertical-align: middle;\n",
       "    }\n",
       "\n",
       "    .dataframe tbody tr th {\n",
       "        vertical-align: top;\n",
       "    }\n",
       "\n",
       "    .dataframe thead tr th {\n",
       "        text-align: left;\n",
       "    }\n",
       "\n",
       "    .dataframe thead tr:last-of-type th {\n",
       "        text-align: right;\n",
       "    }\n",
       "</style>\n",
       "<table border=\"1\" class=\"dataframe\">\n",
       "  <thead>\n",
       "    <tr>\n",
       "      <th></th>\n",
       "      <th colspan=\"7\" halign=\"left\">SPY</th>\n",
       "      <th colspan=\"7\" halign=\"left\">AGG</th>\n",
       "    </tr>\n",
       "    <tr>\n",
       "      <th></th>\n",
       "      <th>open</th>\n",
       "      <th>high</th>\n",
       "      <th>low</th>\n",
       "      <th>close</th>\n",
       "      <th>volume</th>\n",
       "      <th>trade_count</th>\n",
       "      <th>vwap</th>\n",
       "      <th>open</th>\n",
       "      <th>high</th>\n",
       "      <th>low</th>\n",
       "      <th>close</th>\n",
       "      <th>volume</th>\n",
       "      <th>trade_count</th>\n",
       "      <th>vwap</th>\n",
       "    </tr>\n",
       "    <tr>\n",
       "      <th>timestamp</th>\n",
       "      <th></th>\n",
       "      <th></th>\n",
       "      <th></th>\n",
       "      <th></th>\n",
       "      <th></th>\n",
       "      <th></th>\n",
       "      <th></th>\n",
       "      <th></th>\n",
       "      <th></th>\n",
       "      <th></th>\n",
       "      <th></th>\n",
       "      <th></th>\n",
       "      <th></th>\n",
       "      <th></th>\n",
       "    </tr>\n",
       "  </thead>\n",
       "  <tbody>\n",
       "    <tr>\n",
       "      <th>2019-07-15 04:00:00+00:00</th>\n",
       "      <td>301.12</td>\n",
       "      <td>301.13</td>\n",
       "      <td>300.19</td>\n",
       "      <td>300.75</td>\n",
       "      <td>33992129</td>\n",
       "      <td>149900</td>\n",
       "      <td>300.605019</td>\n",
       "      <td>301.12</td>\n",
       "      <td>301.13</td>\n",
       "      <td>300.19</td>\n",
       "      <td>300.75</td>\n",
       "      <td>33992129</td>\n",
       "      <td>149900</td>\n",
       "      <td>300.605019</td>\n",
       "    </tr>\n",
       "    <tr>\n",
       "      <th>2019-07-16 04:00:00+00:00</th>\n",
       "      <td>300.64</td>\n",
       "      <td>300.88</td>\n",
       "      <td>299.44</td>\n",
       "      <td>299.71</td>\n",
       "      <td>40807546</td>\n",
       "      <td>183816</td>\n",
       "      <td>300.108039</td>\n",
       "      <td>300.64</td>\n",
       "      <td>300.88</td>\n",
       "      <td>299.44</td>\n",
       "      <td>299.71</td>\n",
       "      <td>40807546</td>\n",
       "      <td>183816</td>\n",
       "      <td>300.108039</td>\n",
       "    </tr>\n",
       "    <tr>\n",
       "      <th>2019-07-17 04:00:00+00:00</th>\n",
       "      <td>299.77</td>\n",
       "      <td>299.93</td>\n",
       "      <td>297.74</td>\n",
       "      <td>297.74</td>\n",
       "      <td>44343835</td>\n",
       "      <td>200151</td>\n",
       "      <td>298.543544</td>\n",
       "      <td>299.77</td>\n",
       "      <td>299.93</td>\n",
       "      <td>297.74</td>\n",
       "      <td>297.74</td>\n",
       "      <td>44343835</td>\n",
       "      <td>200151</td>\n",
       "      <td>298.543544</td>\n",
       "    </tr>\n",
       "    <tr>\n",
       "      <th>2019-07-18 04:00:00+00:00</th>\n",
       "      <td>297.18</td>\n",
       "      <td>299.25</td>\n",
       "      <td>296.70</td>\n",
       "      <td>298.83</td>\n",
       "      <td>53567032</td>\n",
       "      <td>236661</td>\n",
       "      <td>298.067797</td>\n",
       "      <td>297.18</td>\n",
       "      <td>299.25</td>\n",
       "      <td>296.70</td>\n",
       "      <td>298.83</td>\n",
       "      <td>53567032</td>\n",
       "      <td>236661</td>\n",
       "      <td>298.067797</td>\n",
       "    </tr>\n",
       "    <tr>\n",
       "      <th>2019-07-19 04:00:00+00:00</th>\n",
       "      <td>300.01</td>\n",
       "      <td>300.07</td>\n",
       "      <td>296.96</td>\n",
       "      <td>297.17</td>\n",
       "      <td>76794138</td>\n",
       "      <td>260715</td>\n",
       "      <td>298.617649</td>\n",
       "      <td>300.01</td>\n",
       "      <td>300.07</td>\n",
       "      <td>296.96</td>\n",
       "      <td>297.17</td>\n",
       "      <td>76794138</td>\n",
       "      <td>260715</td>\n",
       "      <td>298.617649</td>\n",
       "    </tr>\n",
       "  </tbody>\n",
       "</table>\n",
       "</div>"
      ],
      "text/plain": [
       "                              SPY                                    \\\n",
       "                             open    high     low   close    volume   \n",
       "timestamp                                                             \n",
       "2019-07-15 04:00:00+00:00  301.12  301.13  300.19  300.75  33992129   \n",
       "2019-07-16 04:00:00+00:00  300.64  300.88  299.44  299.71  40807546   \n",
       "2019-07-17 04:00:00+00:00  299.77  299.93  297.74  297.74  44343835   \n",
       "2019-07-18 04:00:00+00:00  297.18  299.25  296.70  298.83  53567032   \n",
       "2019-07-19 04:00:00+00:00  300.01  300.07  296.96  297.17  76794138   \n",
       "\n",
       "                                                      AGG                  \\\n",
       "                          trade_count        vwap    open    high     low   \n",
       "timestamp                                                                   \n",
       "2019-07-15 04:00:00+00:00      149900  300.605019  301.12  301.13  300.19   \n",
       "2019-07-16 04:00:00+00:00      183816  300.108039  300.64  300.88  299.44   \n",
       "2019-07-17 04:00:00+00:00      200151  298.543544  299.77  299.93  297.74   \n",
       "2019-07-18 04:00:00+00:00      236661  298.067797  297.18  299.25  296.70   \n",
       "2019-07-19 04:00:00+00:00      260715  298.617649  300.01  300.07  296.96   \n",
       "\n",
       "                                                                     \n",
       "                            close    volume trade_count        vwap  \n",
       "timestamp                                                            \n",
       "2019-07-15 04:00:00+00:00  300.75  33992129      149900  300.605019  \n",
       "2019-07-16 04:00:00+00:00  299.71  40807546      183816  300.108039  \n",
       "2019-07-17 04:00:00+00:00  297.74  44343835      200151  298.543544  \n",
       "2019-07-18 04:00:00+00:00  298.83  53567032      236661  298.067797  \n",
       "2019-07-19 04:00:00+00:00  297.17  76794138      260715  298.617649  "
      ]
     },
     "metadata": {},
     "output_type": "display_data"
    }
   ],
   "source": [
    "# Use the Alpaca get_bars function to make the API call to get the 3 years worth of pricing data\n",
    "# The tickers and timeframe parameters should have been set in Part 1 of this activity \n",
    "# The start and end dates should be updated with the information set above\n",
    "# Remember to add the df property to the end of the call so the response is returned as a DataFrame\n",
    "three_year_price_df = alpaca.get_bars(\n",
    "    tickers,\n",
    "    timeframe,\n",
    "    start=start_date,\n",
    "    end=end_date\n",
    ").df\n",
    "\n",
    "# Reorganize the DataFrame\n",
    "# Separate ticker data\n",
    "SPY = three_year_price_df[three_year_price_df['symbol']== 'SPY'].drop('symbol', axis=1)\n",
    "AGG = three_year_price_df[three_year_price_df['symbol']=='SPY'].drop('symbol', axis=1)\n",
    "# Concatenate the ticker DataFrames\n",
    "df = pd.concat([SPY, AGG], axis=1, keys=['SPY','AGG'])\n",
    "\n",
    "# Display both the first and last five rows of the DataFrame\n",
    "# YOUR CODE HERE\n",
    "# display(three_year_price_df.head())\n",
    "# display(SPY.head())\n",
    "display(df.head())\n",
    "                                                   \n"
   ]
  },
  {
   "cell_type": "markdown",
   "metadata": {},
   "source": [
    "#### Step 2: Run a Monte Carlo simulation of 500 samples and 30 years for the 60/40 portfolio, and then plot the results."
   ]
  },
  {
   "cell_type": "code",
   "execution_count": 153,
   "metadata": {},
   "outputs": [
    {
     "data": {
      "text/html": [
       "<div>\n",
       "<style scoped>\n",
       "    .dataframe tbody tr th:only-of-type {\n",
       "        vertical-align: middle;\n",
       "    }\n",
       "\n",
       "    .dataframe tbody tr th {\n",
       "        vertical-align: top;\n",
       "    }\n",
       "\n",
       "    .dataframe thead tr th {\n",
       "        text-align: left;\n",
       "    }\n",
       "\n",
       "    .dataframe thead tr:last-of-type th {\n",
       "        text-align: right;\n",
       "    }\n",
       "</style>\n",
       "<table border=\"1\" class=\"dataframe\">\n",
       "  <thead>\n",
       "    <tr>\n",
       "      <th></th>\n",
       "      <th colspan=\"8\" halign=\"left\">SPY</th>\n",
       "      <th colspan=\"8\" halign=\"left\">AGG</th>\n",
       "    </tr>\n",
       "    <tr>\n",
       "      <th></th>\n",
       "      <th>open</th>\n",
       "      <th>high</th>\n",
       "      <th>low</th>\n",
       "      <th>close</th>\n",
       "      <th>volume</th>\n",
       "      <th>trade_count</th>\n",
       "      <th>vwap</th>\n",
       "      <th>daily_return</th>\n",
       "      <th>open</th>\n",
       "      <th>high</th>\n",
       "      <th>low</th>\n",
       "      <th>close</th>\n",
       "      <th>volume</th>\n",
       "      <th>trade_count</th>\n",
       "      <th>vwap</th>\n",
       "      <th>daily_return</th>\n",
       "    </tr>\n",
       "    <tr>\n",
       "      <th>timestamp</th>\n",
       "      <th></th>\n",
       "      <th></th>\n",
       "      <th></th>\n",
       "      <th></th>\n",
       "      <th></th>\n",
       "      <th></th>\n",
       "      <th></th>\n",
       "      <th></th>\n",
       "      <th></th>\n",
       "      <th></th>\n",
       "      <th></th>\n",
       "      <th></th>\n",
       "      <th></th>\n",
       "      <th></th>\n",
       "      <th></th>\n",
       "      <th></th>\n",
       "    </tr>\n",
       "  </thead>\n",
       "  <tbody>\n",
       "    <tr>\n",
       "      <th>2019-07-15 04:00:00+00:00</th>\n",
       "      <td>301.12</td>\n",
       "      <td>301.13</td>\n",
       "      <td>300.19</td>\n",
       "      <td>300.75</td>\n",
       "      <td>33992129</td>\n",
       "      <td>149900</td>\n",
       "      <td>300.605019</td>\n",
       "      <td>NaN</td>\n",
       "      <td>301.12</td>\n",
       "      <td>301.13</td>\n",
       "      <td>300.19</td>\n",
       "      <td>300.75</td>\n",
       "      <td>33992129</td>\n",
       "      <td>149900</td>\n",
       "      <td>300.605019</td>\n",
       "      <td>NaN</td>\n",
       "    </tr>\n",
       "    <tr>\n",
       "      <th>2019-07-16 04:00:00+00:00</th>\n",
       "      <td>300.64</td>\n",
       "      <td>300.88</td>\n",
       "      <td>299.44</td>\n",
       "      <td>299.71</td>\n",
       "      <td>40807546</td>\n",
       "      <td>183816</td>\n",
       "      <td>300.108039</td>\n",
       "      <td>-0.003458</td>\n",
       "      <td>300.64</td>\n",
       "      <td>300.88</td>\n",
       "      <td>299.44</td>\n",
       "      <td>299.71</td>\n",
       "      <td>40807546</td>\n",
       "      <td>183816</td>\n",
       "      <td>300.108039</td>\n",
       "      <td>-0.003458</td>\n",
       "    </tr>\n",
       "    <tr>\n",
       "      <th>2019-07-17 04:00:00+00:00</th>\n",
       "      <td>299.77</td>\n",
       "      <td>299.93</td>\n",
       "      <td>297.74</td>\n",
       "      <td>297.74</td>\n",
       "      <td>44343835</td>\n",
       "      <td>200151</td>\n",
       "      <td>298.543544</td>\n",
       "      <td>-0.006573</td>\n",
       "      <td>299.77</td>\n",
       "      <td>299.93</td>\n",
       "      <td>297.74</td>\n",
       "      <td>297.74</td>\n",
       "      <td>44343835</td>\n",
       "      <td>200151</td>\n",
       "      <td>298.543544</td>\n",
       "      <td>-0.006573</td>\n",
       "    </tr>\n",
       "    <tr>\n",
       "      <th>2019-07-18 04:00:00+00:00</th>\n",
       "      <td>297.18</td>\n",
       "      <td>299.25</td>\n",
       "      <td>296.70</td>\n",
       "      <td>298.83</td>\n",
       "      <td>53567032</td>\n",
       "      <td>236661</td>\n",
       "      <td>298.067797</td>\n",
       "      <td>0.003661</td>\n",
       "      <td>297.18</td>\n",
       "      <td>299.25</td>\n",
       "      <td>296.70</td>\n",
       "      <td>298.83</td>\n",
       "      <td>53567032</td>\n",
       "      <td>236661</td>\n",
       "      <td>298.067797</td>\n",
       "      <td>0.003661</td>\n",
       "    </tr>\n",
       "    <tr>\n",
       "      <th>2019-07-19 04:00:00+00:00</th>\n",
       "      <td>300.01</td>\n",
       "      <td>300.07</td>\n",
       "      <td>296.96</td>\n",
       "      <td>297.17</td>\n",
       "      <td>76794138</td>\n",
       "      <td>260715</td>\n",
       "      <td>298.617649</td>\n",
       "      <td>-0.005555</td>\n",
       "      <td>300.01</td>\n",
       "      <td>300.07</td>\n",
       "      <td>296.96</td>\n",
       "      <td>297.17</td>\n",
       "      <td>76794138</td>\n",
       "      <td>260715</td>\n",
       "      <td>298.617649</td>\n",
       "      <td>-0.005555</td>\n",
       "    </tr>\n",
       "  </tbody>\n",
       "</table>\n",
       "</div>"
      ],
      "text/plain": [
       "                              SPY                                    \\\n",
       "                             open    high     low   close    volume   \n",
       "timestamp                                                             \n",
       "2019-07-15 04:00:00+00:00  301.12  301.13  300.19  300.75  33992129   \n",
       "2019-07-16 04:00:00+00:00  300.64  300.88  299.44  299.71  40807546   \n",
       "2019-07-17 04:00:00+00:00  299.77  299.93  297.74  297.74  44343835   \n",
       "2019-07-18 04:00:00+00:00  297.18  299.25  296.70  298.83  53567032   \n",
       "2019-07-19 04:00:00+00:00  300.01  300.07  296.96  297.17  76794138   \n",
       "\n",
       "                                                                   AGG  \\\n",
       "                          trade_count        vwap daily_return    open   \n",
       "timestamp                                                                \n",
       "2019-07-15 04:00:00+00:00      149900  300.605019          NaN  301.12   \n",
       "2019-07-16 04:00:00+00:00      183816  300.108039    -0.003458  300.64   \n",
       "2019-07-17 04:00:00+00:00      200151  298.543544    -0.006573  299.77   \n",
       "2019-07-18 04:00:00+00:00      236661  298.067797     0.003661  297.18   \n",
       "2019-07-19 04:00:00+00:00      260715  298.617649    -0.005555  300.01   \n",
       "\n",
       "                                                                         \\\n",
       "                             high     low   close    volume trade_count   \n",
       "timestamp                                                                 \n",
       "2019-07-15 04:00:00+00:00  301.13  300.19  300.75  33992129      149900   \n",
       "2019-07-16 04:00:00+00:00  300.88  299.44  299.71  40807546      183816   \n",
       "2019-07-17 04:00:00+00:00  299.93  297.74  297.74  44343835      200151   \n",
       "2019-07-18 04:00:00+00:00  299.25  296.70  298.83  53567032      236661   \n",
       "2019-07-19 04:00:00+00:00  300.07  296.96  297.17  76794138      260715   \n",
       "\n",
       "                                                    \n",
       "                                 vwap daily_return  \n",
       "timestamp                                           \n",
       "2019-07-15 04:00:00+00:00  300.605019          NaN  \n",
       "2019-07-16 04:00:00+00:00  300.108039    -0.003458  \n",
       "2019-07-17 04:00:00+00:00  298.543544    -0.006573  \n",
       "2019-07-18 04:00:00+00:00  298.067797     0.003661  \n",
       "2019-07-19 04:00:00+00:00  298.617649    -0.005555  "
      ]
     },
     "execution_count": 153,
     "metadata": {},
     "output_type": "execute_result"
    }
   ],
   "source": [
    "# Configure the Monte Carlo simulation to forecast 30 years cumulative returns\n",
    "# The weights should be split 40% to AGG and 60% to SPY.\n",
    "# Run 500 samples.\n",
    "thirty_year_simulation = MCSimulation(\n",
    "    portfolio_data=df,\n",
    "    weights=[.6,.4],\n",
    "    num_simulation =500,\n",
    "    num_trading_days=252*30,\n",
    ")\n",
    "    \n",
    "\n",
    "# Review the simulation input data\n",
    "thirty_year_simulation.portfolio_data.head()\n"
   ]
  },
  {
   "cell_type": "code",
   "execution_count": 154,
   "metadata": {},
   "outputs": [
    {
     "name": "stdout",
     "output_type": "stream",
     "text": [
      "Running Monte Carlo simulation number 0.\n",
      "Running Monte Carlo simulation number 10.\n",
      "Running Monte Carlo simulation number 20.\n",
      "Running Monte Carlo simulation number 30.\n",
      "Running Monte Carlo simulation number 40.\n",
      "Running Monte Carlo simulation number 50.\n",
      "Running Monte Carlo simulation number 60.\n",
      "Running Monte Carlo simulation number 70.\n",
      "Running Monte Carlo simulation number 80.\n",
      "Running Monte Carlo simulation number 90.\n",
      "Running Monte Carlo simulation number 100.\n"
     ]
    },
    {
     "name": "stderr",
     "output_type": "stream",
     "text": [
      "C:\\Users\\deerr\\OneDrive\\Desktop\\FinTech_Workspace\\Module_5\\Module_5_Challenge\\Financial_Planning_Tool\\MCForecastTools.py:117: PerformanceWarning: DataFrame is highly fragmented.  This is usually the result of calling `frame.insert` many times, which has poor performance.  Consider joining all columns at once using pd.concat(axis=1) instead.  To get a de-fragmented frame, use `newframe = frame.copy()`\n",
      "  portfolio_cumulative_returns[n] = (1 + sim_df.fillna(0)).cumprod()\n"
     ]
    },
    {
     "name": "stdout",
     "output_type": "stream",
     "text": [
      "Running Monte Carlo simulation number 110.\n",
      "Running Monte Carlo simulation number 120.\n",
      "Running Monte Carlo simulation number 130.\n",
      "Running Monte Carlo simulation number 140.\n",
      "Running Monte Carlo simulation number 150.\n",
      "Running Monte Carlo simulation number 160.\n",
      "Running Monte Carlo simulation number 170.\n",
      "Running Monte Carlo simulation number 180.\n",
      "Running Monte Carlo simulation number 190.\n",
      "Running Monte Carlo simulation number 200.\n",
      "Running Monte Carlo simulation number 210.\n",
      "Running Monte Carlo simulation number 220.\n",
      "Running Monte Carlo simulation number 230.\n",
      "Running Monte Carlo simulation number 240.\n",
      "Running Monte Carlo simulation number 250.\n",
      "Running Monte Carlo simulation number 260.\n",
      "Running Monte Carlo simulation number 270.\n",
      "Running Monte Carlo simulation number 280.\n",
      "Running Monte Carlo simulation number 290.\n",
      "Running Monte Carlo simulation number 300.\n",
      "Running Monte Carlo simulation number 310.\n",
      "Running Monte Carlo simulation number 320.\n",
      "Running Monte Carlo simulation number 330.\n",
      "Running Monte Carlo simulation number 340.\n",
      "Running Monte Carlo simulation number 350.\n",
      "Running Monte Carlo simulation number 360.\n",
      "Running Monte Carlo simulation number 370.\n",
      "Running Monte Carlo simulation number 380.\n",
      "Running Monte Carlo simulation number 390.\n",
      "Running Monte Carlo simulation number 400.\n",
      "Running Monte Carlo simulation number 410.\n",
      "Running Monte Carlo simulation number 420.\n",
      "Running Monte Carlo simulation number 430.\n",
      "Running Monte Carlo simulation number 440.\n",
      "Running Monte Carlo simulation number 450.\n",
      "Running Monte Carlo simulation number 460.\n",
      "Running Monte Carlo simulation number 470.\n",
      "Running Monte Carlo simulation number 480.\n",
      "Running Monte Carlo simulation number 490.\n"
     ]
    },
    {
     "data": {
      "text/html": [
       "<div>\n",
       "<style scoped>\n",
       "    .dataframe tbody tr th:only-of-type {\n",
       "        vertical-align: middle;\n",
       "    }\n",
       "\n",
       "    .dataframe tbody tr th {\n",
       "        vertical-align: top;\n",
       "    }\n",
       "\n",
       "    .dataframe thead th {\n",
       "        text-align: right;\n",
       "    }\n",
       "</style>\n",
       "<table border=\"1\" class=\"dataframe\">\n",
       "  <thead>\n",
       "    <tr style=\"text-align: right;\">\n",
       "      <th></th>\n",
       "      <th>0</th>\n",
       "      <th>1</th>\n",
       "      <th>2</th>\n",
       "      <th>3</th>\n",
       "      <th>4</th>\n",
       "      <th>5</th>\n",
       "      <th>6</th>\n",
       "      <th>7</th>\n",
       "      <th>8</th>\n",
       "      <th>9</th>\n",
       "      <th>...</th>\n",
       "      <th>490</th>\n",
       "      <th>491</th>\n",
       "      <th>492</th>\n",
       "      <th>493</th>\n",
       "      <th>494</th>\n",
       "      <th>495</th>\n",
       "      <th>496</th>\n",
       "      <th>497</th>\n",
       "      <th>498</th>\n",
       "      <th>499</th>\n",
       "    </tr>\n",
       "  </thead>\n",
       "  <tbody>\n",
       "    <tr>\n",
       "      <th>0</th>\n",
       "      <td>1.000000</td>\n",
       "      <td>1.000000</td>\n",
       "      <td>1.000000</td>\n",
       "      <td>1.000000</td>\n",
       "      <td>1.000000</td>\n",
       "      <td>1.000000</td>\n",
       "      <td>1.000000</td>\n",
       "      <td>1.000000</td>\n",
       "      <td>1.000000</td>\n",
       "      <td>1.000000</td>\n",
       "      <td>...</td>\n",
       "      <td>1.000000</td>\n",
       "      <td>1.000000</td>\n",
       "      <td>1.000000</td>\n",
       "      <td>1.000000</td>\n",
       "      <td>1.000000</td>\n",
       "      <td>1.000000</td>\n",
       "      <td>1.000000</td>\n",
       "      <td>1.000000</td>\n",
       "      <td>1.000000</td>\n",
       "      <td>1.000000</td>\n",
       "    </tr>\n",
       "    <tr>\n",
       "      <th>1</th>\n",
       "      <td>1.005731</td>\n",
       "      <td>1.007754</td>\n",
       "      <td>0.988778</td>\n",
       "      <td>0.993972</td>\n",
       "      <td>0.998016</td>\n",
       "      <td>1.000944</td>\n",
       "      <td>1.008236</td>\n",
       "      <td>1.010600</td>\n",
       "      <td>0.981790</td>\n",
       "      <td>1.010587</td>\n",
       "      <td>...</td>\n",
       "      <td>1.016449</td>\n",
       "      <td>1.022904</td>\n",
       "      <td>1.002094</td>\n",
       "      <td>1.001321</td>\n",
       "      <td>1.002727</td>\n",
       "      <td>1.000911</td>\n",
       "      <td>1.002141</td>\n",
       "      <td>1.023450</td>\n",
       "      <td>1.015799</td>\n",
       "      <td>0.999748</td>\n",
       "    </tr>\n",
       "    <tr>\n",
       "      <th>2</th>\n",
       "      <td>0.989874</td>\n",
       "      <td>1.009991</td>\n",
       "      <td>0.974664</td>\n",
       "      <td>1.009480</td>\n",
       "      <td>0.989105</td>\n",
       "      <td>1.000889</td>\n",
       "      <td>0.997381</td>\n",
       "      <td>1.017512</td>\n",
       "      <td>0.971856</td>\n",
       "      <td>1.005845</td>\n",
       "      <td>...</td>\n",
       "      <td>1.022063</td>\n",
       "      <td>1.004197</td>\n",
       "      <td>0.997022</td>\n",
       "      <td>1.005257</td>\n",
       "      <td>1.031741</td>\n",
       "      <td>0.997484</td>\n",
       "      <td>1.004963</td>\n",
       "      <td>1.038466</td>\n",
       "      <td>1.017582</td>\n",
       "      <td>1.002634</td>\n",
       "    </tr>\n",
       "    <tr>\n",
       "      <th>3</th>\n",
       "      <td>0.990175</td>\n",
       "      <td>1.006573</td>\n",
       "      <td>0.967753</td>\n",
       "      <td>1.012289</td>\n",
       "      <td>0.996745</td>\n",
       "      <td>0.998566</td>\n",
       "      <td>0.989158</td>\n",
       "      <td>1.007004</td>\n",
       "      <td>0.974410</td>\n",
       "      <td>0.995916</td>\n",
       "      <td>...</td>\n",
       "      <td>1.005913</td>\n",
       "      <td>1.010479</td>\n",
       "      <td>0.993421</td>\n",
       "      <td>1.011972</td>\n",
       "      <td>1.036033</td>\n",
       "      <td>0.999962</td>\n",
       "      <td>0.984294</td>\n",
       "      <td>1.039104</td>\n",
       "      <td>1.009634</td>\n",
       "      <td>1.017536</td>\n",
       "    </tr>\n",
       "    <tr>\n",
       "      <th>4</th>\n",
       "      <td>1.001715</td>\n",
       "      <td>0.999266</td>\n",
       "      <td>0.960638</td>\n",
       "      <td>1.003262</td>\n",
       "      <td>0.990697</td>\n",
       "      <td>1.002227</td>\n",
       "      <td>1.018730</td>\n",
       "      <td>0.995910</td>\n",
       "      <td>0.991646</td>\n",
       "      <td>1.008246</td>\n",
       "      <td>...</td>\n",
       "      <td>1.028968</td>\n",
       "      <td>1.028907</td>\n",
       "      <td>0.992758</td>\n",
       "      <td>1.008161</td>\n",
       "      <td>1.030030</td>\n",
       "      <td>1.022224</td>\n",
       "      <td>0.995345</td>\n",
       "      <td>1.041470</td>\n",
       "      <td>0.992800</td>\n",
       "      <td>1.006141</td>\n",
       "    </tr>\n",
       "    <tr>\n",
       "      <th>...</th>\n",
       "      <td>...</td>\n",
       "      <td>...</td>\n",
       "      <td>...</td>\n",
       "      <td>...</td>\n",
       "      <td>...</td>\n",
       "      <td>...</td>\n",
       "      <td>...</td>\n",
       "      <td>...</td>\n",
       "      <td>...</td>\n",
       "      <td>...</td>\n",
       "      <td>...</td>\n",
       "      <td>...</td>\n",
       "      <td>...</td>\n",
       "      <td>...</td>\n",
       "      <td>...</td>\n",
       "      <td>...</td>\n",
       "      <td>...</td>\n",
       "      <td>...</td>\n",
       "      <td>...</td>\n",
       "      <td>...</td>\n",
       "      <td>...</td>\n",
       "    </tr>\n",
       "    <tr>\n",
       "      <th>7556</th>\n",
       "      <td>17.357910</td>\n",
       "      <td>46.460001</td>\n",
       "      <td>7.004406</td>\n",
       "      <td>30.584558</td>\n",
       "      <td>8.404902</td>\n",
       "      <td>3.065066</td>\n",
       "      <td>20.678089</td>\n",
       "      <td>15.976440</td>\n",
       "      <td>30.201437</td>\n",
       "      <td>6.011002</td>\n",
       "      <td>...</td>\n",
       "      <td>5.609574</td>\n",
       "      <td>38.897847</td>\n",
       "      <td>11.199501</td>\n",
       "      <td>9.891345</td>\n",
       "      <td>104.029781</td>\n",
       "      <td>22.583228</td>\n",
       "      <td>7.323042</td>\n",
       "      <td>15.051575</td>\n",
       "      <td>9.139550</td>\n",
       "      <td>6.292456</td>\n",
       "    </tr>\n",
       "    <tr>\n",
       "      <th>7557</th>\n",
       "      <td>17.492228</td>\n",
       "      <td>46.275193</td>\n",
       "      <td>7.059669</td>\n",
       "      <td>31.361781</td>\n",
       "      <td>8.515867</td>\n",
       "      <td>3.075927</td>\n",
       "      <td>20.652493</td>\n",
       "      <td>15.895069</td>\n",
       "      <td>30.357614</td>\n",
       "      <td>6.097926</td>\n",
       "      <td>...</td>\n",
       "      <td>5.572233</td>\n",
       "      <td>38.756802</td>\n",
       "      <td>11.456100</td>\n",
       "      <td>10.033546</td>\n",
       "      <td>103.753706</td>\n",
       "      <td>22.989868</td>\n",
       "      <td>7.358950</td>\n",
       "      <td>14.954637</td>\n",
       "      <td>9.118196</td>\n",
       "      <td>6.329010</td>\n",
       "    </tr>\n",
       "    <tr>\n",
       "      <th>7558</th>\n",
       "      <td>17.535501</td>\n",
       "      <td>46.414247</td>\n",
       "      <td>7.023764</td>\n",
       "      <td>31.367113</td>\n",
       "      <td>8.380419</td>\n",
       "      <td>3.069053</td>\n",
       "      <td>20.680189</td>\n",
       "      <td>15.796768</td>\n",
       "      <td>30.145321</td>\n",
       "      <td>6.014817</td>\n",
       "      <td>...</td>\n",
       "      <td>5.601100</td>\n",
       "      <td>37.876373</td>\n",
       "      <td>11.645700</td>\n",
       "      <td>10.106864</td>\n",
       "      <td>103.405462</td>\n",
       "      <td>22.399265</td>\n",
       "      <td>7.310638</td>\n",
       "      <td>14.983485</td>\n",
       "      <td>8.943589</td>\n",
       "      <td>6.367439</td>\n",
       "    </tr>\n",
       "    <tr>\n",
       "      <th>7559</th>\n",
       "      <td>17.511695</td>\n",
       "      <td>46.196140</td>\n",
       "      <td>6.999273</td>\n",
       "      <td>31.325870</td>\n",
       "      <td>8.402994</td>\n",
       "      <td>3.073348</td>\n",
       "      <td>20.234096</td>\n",
       "      <td>15.736985</td>\n",
       "      <td>30.183547</td>\n",
       "      <td>5.963433</td>\n",
       "      <td>...</td>\n",
       "      <td>5.723187</td>\n",
       "      <td>36.619284</td>\n",
       "      <td>11.501679</td>\n",
       "      <td>10.348444</td>\n",
       "      <td>104.613883</td>\n",
       "      <td>22.139790</td>\n",
       "      <td>7.323691</td>\n",
       "      <td>14.813990</td>\n",
       "      <td>8.841217</td>\n",
       "      <td>6.324399</td>\n",
       "    </tr>\n",
       "    <tr>\n",
       "      <th>7560</th>\n",
       "      <td>17.698603</td>\n",
       "      <td>46.019487</td>\n",
       "      <td>6.974984</td>\n",
       "      <td>31.150318</td>\n",
       "      <td>8.508127</td>\n",
       "      <td>3.072527</td>\n",
       "      <td>20.350598</td>\n",
       "      <td>15.763935</td>\n",
       "      <td>29.311763</td>\n",
       "      <td>5.990927</td>\n",
       "      <td>...</td>\n",
       "      <td>5.742328</td>\n",
       "      <td>37.105147</td>\n",
       "      <td>11.388819</td>\n",
       "      <td>10.494458</td>\n",
       "      <td>104.203358</td>\n",
       "      <td>22.219847</td>\n",
       "      <td>7.346734</td>\n",
       "      <td>14.660880</td>\n",
       "      <td>8.878934</td>\n",
       "      <td>6.340320</td>\n",
       "    </tr>\n",
       "  </tbody>\n",
       "</table>\n",
       "<p>7561 rows × 500 columns</p>\n",
       "</div>"
      ],
      "text/plain": [
       "            0          1         2          3         4         5    \\\n",
       "0      1.000000   1.000000  1.000000   1.000000  1.000000  1.000000   \n",
       "1      1.005731   1.007754  0.988778   0.993972  0.998016  1.000944   \n",
       "2      0.989874   1.009991  0.974664   1.009480  0.989105  1.000889   \n",
       "3      0.990175   1.006573  0.967753   1.012289  0.996745  0.998566   \n",
       "4      1.001715   0.999266  0.960638   1.003262  0.990697  1.002227   \n",
       "...         ...        ...       ...        ...       ...       ...   \n",
       "7556  17.357910  46.460001  7.004406  30.584558  8.404902  3.065066   \n",
       "7557  17.492228  46.275193  7.059669  31.361781  8.515867  3.075927   \n",
       "7558  17.535501  46.414247  7.023764  31.367113  8.380419  3.069053   \n",
       "7559  17.511695  46.196140  6.999273  31.325870  8.402994  3.073348   \n",
       "7560  17.698603  46.019487  6.974984  31.150318  8.508127  3.072527   \n",
       "\n",
       "            6          7          8         9    ...       490        491  \\\n",
       "0      1.000000   1.000000   1.000000  1.000000  ...  1.000000   1.000000   \n",
       "1      1.008236   1.010600   0.981790  1.010587  ...  1.016449   1.022904   \n",
       "2      0.997381   1.017512   0.971856  1.005845  ...  1.022063   1.004197   \n",
       "3      0.989158   1.007004   0.974410  0.995916  ...  1.005913   1.010479   \n",
       "4      1.018730   0.995910   0.991646  1.008246  ...  1.028968   1.028907   \n",
       "...         ...        ...        ...       ...  ...       ...        ...   \n",
       "7556  20.678089  15.976440  30.201437  6.011002  ...  5.609574  38.897847   \n",
       "7557  20.652493  15.895069  30.357614  6.097926  ...  5.572233  38.756802   \n",
       "7558  20.680189  15.796768  30.145321  6.014817  ...  5.601100  37.876373   \n",
       "7559  20.234096  15.736985  30.183547  5.963433  ...  5.723187  36.619284   \n",
       "7560  20.350598  15.763935  29.311763  5.990927  ...  5.742328  37.105147   \n",
       "\n",
       "            492        493         494        495       496        497  \\\n",
       "0      1.000000   1.000000    1.000000   1.000000  1.000000   1.000000   \n",
       "1      1.002094   1.001321    1.002727   1.000911  1.002141   1.023450   \n",
       "2      0.997022   1.005257    1.031741   0.997484  1.004963   1.038466   \n",
       "3      0.993421   1.011972    1.036033   0.999962  0.984294   1.039104   \n",
       "4      0.992758   1.008161    1.030030   1.022224  0.995345   1.041470   \n",
       "...         ...        ...         ...        ...       ...        ...   \n",
       "7556  11.199501   9.891345  104.029781  22.583228  7.323042  15.051575   \n",
       "7557  11.456100  10.033546  103.753706  22.989868  7.358950  14.954637   \n",
       "7558  11.645700  10.106864  103.405462  22.399265  7.310638  14.983485   \n",
       "7559  11.501679  10.348444  104.613883  22.139790  7.323691  14.813990   \n",
       "7560  11.388819  10.494458  104.203358  22.219847  7.346734  14.660880   \n",
       "\n",
       "           498       499  \n",
       "0     1.000000  1.000000  \n",
       "1     1.015799  0.999748  \n",
       "2     1.017582  1.002634  \n",
       "3     1.009634  1.017536  \n",
       "4     0.992800  1.006141  \n",
       "...        ...       ...  \n",
       "7556  9.139550  6.292456  \n",
       "7557  9.118196  6.329010  \n",
       "7558  8.943589  6.367439  \n",
       "7559  8.841217  6.324399  \n",
       "7560  8.878934  6.340320  \n",
       "\n",
       "[7561 rows x 500 columns]"
      ]
     },
     "execution_count": 154,
     "metadata": {},
     "output_type": "execute_result"
    }
   ],
   "source": [
    "# Run the Monte Carlo simulation to forecast 30 years cumulative returns\n",
    "thirty_year_simulation.calc_cumulative_return()\n"
   ]
  },
  {
   "cell_type": "code",
   "execution_count": 157,
   "metadata": {},
   "outputs": [
    {
     "data": {
      "text/plain": [
       "<AxesSubplot:title={'center':'500 Simulations of Cumulative Portfolio Return Trajectories Over the Next 7560 Trading Days.'}>"
      ]
     },
     "execution_count": 157,
     "metadata": {},
     "output_type": "execute_result"
    },
    {
     "data": {
      "image/png": "[encoded data removed]",
      "text/plain": [
       "<Figure size 432x288 with 1 Axes>"
      ]
     },
     "metadata": {
      "needs_background": "light"
     },
     "output_type": "display_data"
    }
   ],
   "source": [
    "# Visualize the 30-year Monte Carlo simulation by creating an\n",
    "# overlay line plot\n",
    "thirty_year_simulation.plot_simulation()\n"
   ]
  },
  {
   "cell_type": "markdown",
   "metadata": {},
   "source": [
    "#### Step 3: Plot the probability distribution of the Monte Carlo simulation."
   ]
  },
  {
   "cell_type": "code",
   "execution_count": 158,
   "metadata": {},
   "outputs": [
    {
     "data": {
      "text/plain": [
       "<AxesSubplot:title={'center':'Distribution of Final Cumuluative Returns Across All 500 Simulations'}, ylabel='Frequency'>"
      ]
     },
     "execution_count": 158,
     "metadata": {},
     "output_type": "execute_result"
    },
    {
     "data": {
      "image/png": "[encoded data removed]",
      "text/plain": [
       "<Figure size 432x288 with 1 Axes>"
      ]
     },
     "metadata": {
      "needs_background": "light"
     },
     "output_type": "display_data"
    }
   ],
   "source": [
    "# Visualize the probability distribution of the 30-year Monte Carlo simulation \n",
    "# by plotting a histogram\n",
    "thirty_year_simulation.plot_distribution()\n"
   ]
  },
  {
   "cell_type": "markdown",
   "metadata": {},
   "source": [
    "#### Step 4: Generate the summary statistics for the Monte Carlo simulation."
   ]
  },
  {
   "cell_type": "code",
   "execution_count": 160,
   "metadata": {},
   "outputs": [
    {
     "data": {
      "text/plain": [
       "count           500.000000\n",
       "mean             27.635619\n",
       "std              32.347739\n",
       "min               1.194356\n",
       "25%               9.353529\n",
       "50%              17.294349\n",
       "75%              35.695324\n",
       "max             355.482556\n",
       "95% CI Lower      2.989976\n",
       "95% CI Upper    103.435745\n",
       "Name: 7560, dtype: float64"
      ]
     },
     "execution_count": 160,
     "metadata": {},
     "output_type": "execute_result"
    }
   ],
   "source": [
    "# Generate summary statistics from the 30-year Monte Carlo simulation results\n",
    "# Save the results as a variable\n",
    "summary_table = thirty_year_simulation.summarize_cumulative_return()\n",
    "\n",
    "\n",
    "# Review the 30-year Monte Carlo summary statistics\n",
    "summary_table"
   ]
  },
  {
   "cell_type": "markdown",
   "metadata": {},
   "source": [
    "### Analyze the Retirement Portfolio Forecasts\n",
    "\n",
    "Using the current value of only the stock and bond portion of the member's portfolio and the summary statistics that you generated from the Monte Carlo simulation, answer the following question in your Jupyter notebook:\n",
    "\n",
    "-  What are the lower and upper bounds for the expected value of the portfolio with a 95% confidence interval?\n"
   ]
  },
  {
   "cell_type": "code",
   "execution_count": 162,
   "metadata": {},
   "outputs": [
    {
     "name": "stdout",
     "output_type": "stream",
     "text": [
      "62814.3\n"
     ]
    },
    {
     "data": {
      "text/plain": [
       "2.9899761095649287"
      ]
     },
     "execution_count": 162,
     "metadata": {},
     "output_type": "execute_result"
    }
   ],
   "source": [
    "# Print the current balance of the stock and bond portion of the members portfolio\n",
    "print(total_stocks_bonds)\n"
   ]
  },
  {
   "cell_type": "code",
   "execution_count": 169,
   "metadata": {},
   "outputs": [
    {
     "name": "stdout",
     "output_type": "stream",
     "text": [
      "There is a 95% chance that the portfolio with a 60% weight in SPY over the next 30 years will end within in the range of $ 187813.26 and $ 6497243.90.\n"
     ]
    }
   ],
   "source": [
    "# Use the lower and upper `95%` confidence intervals to calculate the range of the possible outcomes for the current stock/bond portfolio\n",
    "ci_lower_thirty_cumulative_return = summary_table[8] * total_stocks_bonds\n",
    "ci_upper_thirty_cumulative_return = summary_table[9] * total_stocks_bonds\n",
    "\n",
    "# Print the result of your calculations\n",
    "print(f\"There is a 95% chance that the portfolio\"\n",
    "      f\" with a 60% weight in SPY over the next 30 years will end within in the range of\"\n",
    "      f\" ${ci_lower_thirty_cumulative_return: .2f} and ${ci_upper_thirty_cumulative_return: .2f}.\")\n"
   ]
  },
  {
   "cell_type": "markdown",
   "metadata": {},
   "source": [
    "### Forecast Cumulative Returns in 10 Years\n",
    "\n",
    "The CTO of the credit union is impressed with your work on these planning tools but wonders if 30 years is a long time to wait until retirement. So, your next task is to adjust the retirement portfolio and run a new Monte Carlo simulation to find out if the changes will allow members to retire earlier.\n",
    "\n",
    "For this new Monte Carlo simulation, do the following: \n",
    "\n",
    "- Forecast the cumulative returns for 10 years from now. Because of the shortened investment horizon (30 years to 10 years), the portfolio needs to invest more heavily in the riskier asset&mdash;that is, stock&mdash;to help accumulate wealth for retirement. \n",
    "\n",
    "- Adjust the weights of the retirement portfolio so that the composition for the Monte Carlo simulation consists of 20% bonds and 80% stocks. \n",
    "\n",
    "- Run the simulation over 500 samples, and use the same data that the API call to Alpaca generated.\n",
    "\n",
    "- Based on the new Monte Carlo simulation, answer the following questions in your Jupyter notebook:\n",
    "\n",
    "    - Using the current value of only the stock and bond portion of the member's portfolio and the summary statistics that you generated from the new Monte Carlo simulation, what are the lower and upper bounds for the expected value of the portfolio (with the new weights) with a 95% confidence interval?\n",
    "\n",
    "    - Will weighting the portfolio more heavily toward stocks allow the credit union members to retire after only 10 years?\n"
   ]
  },
  {
   "cell_type": "code",
   "execution_count": 180,
   "metadata": {},
   "outputs": [],
   "source": [
    "# Configure a Monte Carlo simulation to forecast 10 years cumulative returns\n",
    "# The weights should be split 20% to AGG and 80% to SPY.\n",
    "# Run 500 samples.\n",
    "spy_heavy_simulation = MCSimulation(\n",
    "    portfolio_data=df,\n",
    "    weights=[.8,.2],\n",
    "    num_simulation =500,\n",
    "    num_trading_days=252*10,\n",
    ")\n",
    "\n",
    "# Review the simulation input data\n",
    "#spy_heavy_simulation.portfolio_data.head()\n"
   ]
  },
  {
   "cell_type": "code",
   "execution_count": 181,
   "metadata": {},
   "outputs": [
    {
     "name": "stdout",
     "output_type": "stream",
     "text": [
      "Running Monte Carlo simulation number 0.\n",
      "Running Monte Carlo simulation number 10.\n",
      "Running Monte Carlo simulation number 20.\n",
      "Running Monte Carlo simulation number 30.\n",
      "Running Monte Carlo simulation number 40.\n",
      "Running Monte Carlo simulation number 50.\n",
      "Running Monte Carlo simulation number 60.\n",
      "Running Monte Carlo simulation number 70.\n",
      "Running Monte Carlo simulation number 80.\n",
      "Running Monte Carlo simulation number 90.\n",
      "Running Monte Carlo simulation number 100.\n"
     ]
    },
    {
     "name": "stderr",
     "output_type": "stream",
     "text": [
      "C:\\Users\\deerr\\OneDrive\\Desktop\\FinTech_Workspace\\Module_5\\Module_5_Challenge\\Financial_Planning_Tool\\MCForecastTools.py:117: PerformanceWarning: DataFrame is highly fragmented.  This is usually the result of calling `frame.insert` many times, which has poor performance.  Consider joining all columns at once using pd.concat(axis=1) instead.  To get a de-fragmented frame, use `newframe = frame.copy()`\n",
      "  portfolio_cumulative_returns[n] = (1 + sim_df.fillna(0)).cumprod()\n"
     ]
    },
    {
     "name": "stdout",
     "output_type": "stream",
     "text": [
      "Running Monte Carlo simulation number 110.\n",
      "Running Monte Carlo simulation number 120.\n",
      "Running Monte Carlo simulation number 130.\n",
      "Running Monte Carlo simulation number 140.\n",
      "Running Monte Carlo simulation number 150.\n",
      "Running Monte Carlo simulation number 160.\n",
      "Running Monte Carlo simulation number 170.\n",
      "Running Monte Carlo simulation number 180.\n",
      "Running Monte Carlo simulation number 190.\n",
      "Running Monte Carlo simulation number 200.\n",
      "Running Monte Carlo simulation number 210.\n",
      "Running Monte Carlo simulation number 220.\n",
      "Running Monte Carlo simulation number 230.\n",
      "Running Monte Carlo simulation number 240.\n",
      "Running Monte Carlo simulation number 250.\n",
      "Running Monte Carlo simulation number 260.\n",
      "Running Monte Carlo simulation number 270.\n",
      "Running Monte Carlo simulation number 280.\n",
      "Running Monte Carlo simulation number 290.\n",
      "Running Monte Carlo simulation number 300.\n",
      "Running Monte Carlo simulation number 310.\n",
      "Running Monte Carlo simulation number 320.\n",
      "Running Monte Carlo simulation number 330.\n",
      "Running Monte Carlo simulation number 340.\n",
      "Running Monte Carlo simulation number 350.\n",
      "Running Monte Carlo simulation number 360.\n",
      "Running Monte Carlo simulation number 370.\n",
      "Running Monte Carlo simulation number 380.\n",
      "Running Monte Carlo simulation number 390.\n",
      "Running Monte Carlo simulation number 400.\n",
      "Running Monte Carlo simulation number 410.\n",
      "Running Monte Carlo simulation number 420.\n",
      "Running Monte Carlo simulation number 430.\n",
      "Running Monte Carlo simulation number 440.\n",
      "Running Monte Carlo simulation number 450.\n",
      "Running Monte Carlo simulation number 460.\n",
      "Running Monte Carlo simulation number 470.\n",
      "Running Monte Carlo simulation number 480.\n",
      "Running Monte Carlo simulation number 490.\n"
     ]
    },
    {
     "data": {
      "text/html": [
       "<div>\n",
       "<style scoped>\n",
       "    .dataframe tbody tr th:only-of-type {\n",
       "        vertical-align: middle;\n",
       "    }\n",
       "\n",
       "    .dataframe tbody tr th {\n",
       "        vertical-align: top;\n",
       "    }\n",
       "\n",
       "    .dataframe thead th {\n",
       "        text-align: right;\n",
       "    }\n",
       "</style>\n",
       "<table border=\"1\" class=\"dataframe\">\n",
       "  <thead>\n",
       "    <tr style=\"text-align: right;\">\n",
       "      <th></th>\n",
       "      <th>0</th>\n",
       "      <th>1</th>\n",
       "      <th>2</th>\n",
       "      <th>3</th>\n",
       "      <th>4</th>\n",
       "      <th>5</th>\n",
       "      <th>6</th>\n",
       "      <th>7</th>\n",
       "      <th>8</th>\n",
       "      <th>9</th>\n",
       "      <th>...</th>\n",
       "      <th>490</th>\n",
       "      <th>491</th>\n",
       "      <th>492</th>\n",
       "      <th>493</th>\n",
       "      <th>494</th>\n",
       "      <th>495</th>\n",
       "      <th>496</th>\n",
       "      <th>497</th>\n",
       "      <th>498</th>\n",
       "      <th>499</th>\n",
       "    </tr>\n",
       "  </thead>\n",
       "  <tbody>\n",
       "    <tr>\n",
       "      <th>0</th>\n",
       "      <td>1.000000</td>\n",
       "      <td>1.000000</td>\n",
       "      <td>1.000000</td>\n",
       "      <td>1.000000</td>\n",
       "      <td>1.000000</td>\n",
       "      <td>1.000000</td>\n",
       "      <td>1.000000</td>\n",
       "      <td>1.000000</td>\n",
       "      <td>1.000000</td>\n",
       "      <td>1.000000</td>\n",
       "      <td>...</td>\n",
       "      <td>1.000000</td>\n",
       "      <td>1.000000</td>\n",
       "      <td>1.000000</td>\n",
       "      <td>1.000000</td>\n",
       "      <td>1.000000</td>\n",
       "      <td>1.000000</td>\n",
       "      <td>1.000000</td>\n",
       "      <td>1.000000</td>\n",
       "      <td>1.000000</td>\n",
       "      <td>1.000000</td>\n",
       "    </tr>\n",
       "    <tr>\n",
       "      <th>1</th>\n",
       "      <td>0.994829</td>\n",
       "      <td>1.001452</td>\n",
       "      <td>0.991375</td>\n",
       "      <td>0.996180</td>\n",
       "      <td>0.985518</td>\n",
       "      <td>1.005149</td>\n",
       "      <td>0.986079</td>\n",
       "      <td>0.982687</td>\n",
       "      <td>1.000304</td>\n",
       "      <td>1.008957</td>\n",
       "      <td>...</td>\n",
       "      <td>1.006972</td>\n",
       "      <td>1.014192</td>\n",
       "      <td>1.009288</td>\n",
       "      <td>1.016821</td>\n",
       "      <td>1.014363</td>\n",
       "      <td>1.005020</td>\n",
       "      <td>1.025099</td>\n",
       "      <td>0.980120</td>\n",
       "      <td>0.999304</td>\n",
       "      <td>0.999458</td>\n",
       "    </tr>\n",
       "    <tr>\n",
       "      <th>2</th>\n",
       "      <td>0.986618</td>\n",
       "      <td>0.992946</td>\n",
       "      <td>0.984514</td>\n",
       "      <td>1.000090</td>\n",
       "      <td>0.980815</td>\n",
       "      <td>0.991619</td>\n",
       "      <td>0.990725</td>\n",
       "      <td>0.977157</td>\n",
       "      <td>0.994915</td>\n",
       "      <td>1.024723</td>\n",
       "      <td>...</td>\n",
       "      <td>1.011818</td>\n",
       "      <td>1.002855</td>\n",
       "      <td>1.026400</td>\n",
       "      <td>1.019771</td>\n",
       "      <td>1.028026</td>\n",
       "      <td>1.020495</td>\n",
       "      <td>1.014321</td>\n",
       "      <td>0.978604</td>\n",
       "      <td>0.992454</td>\n",
       "      <td>1.005803</td>\n",
       "    </tr>\n",
       "    <tr>\n",
       "      <th>3</th>\n",
       "      <td>0.999237</td>\n",
       "      <td>0.994883</td>\n",
       "      <td>0.999137</td>\n",
       "      <td>1.004339</td>\n",
       "      <td>0.971555</td>\n",
       "      <td>0.977117</td>\n",
       "      <td>0.999328</td>\n",
       "      <td>0.978951</td>\n",
       "      <td>1.014405</td>\n",
       "      <td>1.023216</td>\n",
       "      <td>...</td>\n",
       "      <td>1.004422</td>\n",
       "      <td>0.996115</td>\n",
       "      <td>1.029381</td>\n",
       "      <td>1.011544</td>\n",
       "      <td>1.024034</td>\n",
       "      <td>1.037443</td>\n",
       "      <td>1.028435</td>\n",
       "      <td>0.991370</td>\n",
       "      <td>0.992038</td>\n",
       "      <td>1.007210</td>\n",
       "    </tr>\n",
       "    <tr>\n",
       "      <th>4</th>\n",
       "      <td>1.012694</td>\n",
       "      <td>0.994697</td>\n",
       "      <td>0.992862</td>\n",
       "      <td>1.015835</td>\n",
       "      <td>0.974657</td>\n",
       "      <td>0.966596</td>\n",
       "      <td>1.004078</td>\n",
       "      <td>0.990968</td>\n",
       "      <td>1.009452</td>\n",
       "      <td>1.005383</td>\n",
       "      <td>...</td>\n",
       "      <td>1.009438</td>\n",
       "      <td>0.981149</td>\n",
       "      <td>1.055953</td>\n",
       "      <td>1.019758</td>\n",
       "      <td>1.011521</td>\n",
       "      <td>1.045456</td>\n",
       "      <td>1.043779</td>\n",
       "      <td>0.987827</td>\n",
       "      <td>1.010194</td>\n",
       "      <td>1.008417</td>\n",
       "    </tr>\n",
       "    <tr>\n",
       "      <th>...</th>\n",
       "      <td>...</td>\n",
       "      <td>...</td>\n",
       "      <td>...</td>\n",
       "      <td>...</td>\n",
       "      <td>...</td>\n",
       "      <td>...</td>\n",
       "      <td>...</td>\n",
       "      <td>...</td>\n",
       "      <td>...</td>\n",
       "      <td>...</td>\n",
       "      <td>...</td>\n",
       "      <td>...</td>\n",
       "      <td>...</td>\n",
       "      <td>...</td>\n",
       "      <td>...</td>\n",
       "      <td>...</td>\n",
       "      <td>...</td>\n",
       "      <td>...</td>\n",
       "      <td>...</td>\n",
       "      <td>...</td>\n",
       "      <td>...</td>\n",
       "    </tr>\n",
       "    <tr>\n",
       "      <th>2516</th>\n",
       "      <td>1.291666</td>\n",
       "      <td>1.679350</td>\n",
       "      <td>1.125618</td>\n",
       "      <td>2.596976</td>\n",
       "      <td>4.062739</td>\n",
       "      <td>2.077499</td>\n",
       "      <td>5.949573</td>\n",
       "      <td>2.776167</td>\n",
       "      <td>1.918229</td>\n",
       "      <td>2.639713</td>\n",
       "      <td>...</td>\n",
       "      <td>3.776632</td>\n",
       "      <td>3.302812</td>\n",
       "      <td>2.661124</td>\n",
       "      <td>0.813577</td>\n",
       "      <td>1.805100</td>\n",
       "      <td>0.872425</td>\n",
       "      <td>1.314814</td>\n",
       "      <td>1.058428</td>\n",
       "      <td>4.865787</td>\n",
       "      <td>1.830655</td>\n",
       "    </tr>\n",
       "    <tr>\n",
       "      <th>2517</th>\n",
       "      <td>1.286763</td>\n",
       "      <td>1.679915</td>\n",
       "      <td>1.134489</td>\n",
       "      <td>2.542621</td>\n",
       "      <td>4.116204</td>\n",
       "      <td>2.042782</td>\n",
       "      <td>6.015116</td>\n",
       "      <td>2.785469</td>\n",
       "      <td>1.827497</td>\n",
       "      <td>2.642314</td>\n",
       "      <td>...</td>\n",
       "      <td>3.825934</td>\n",
       "      <td>3.307303</td>\n",
       "      <td>2.738956</td>\n",
       "      <td>0.796777</td>\n",
       "      <td>1.798474</td>\n",
       "      <td>0.869613</td>\n",
       "      <td>1.316038</td>\n",
       "      <td>1.057914</td>\n",
       "      <td>4.868088</td>\n",
       "      <td>1.842794</td>\n",
       "    </tr>\n",
       "    <tr>\n",
       "      <th>2518</th>\n",
       "      <td>1.284890</td>\n",
       "      <td>1.700851</td>\n",
       "      <td>1.161866</td>\n",
       "      <td>2.535081</td>\n",
       "      <td>4.068971</td>\n",
       "      <td>2.006648</td>\n",
       "      <td>6.055738</td>\n",
       "      <td>2.804196</td>\n",
       "      <td>1.779833</td>\n",
       "      <td>2.621916</td>\n",
       "      <td>...</td>\n",
       "      <td>3.784063</td>\n",
       "      <td>3.358061</td>\n",
       "      <td>2.726545</td>\n",
       "      <td>0.798061</td>\n",
       "      <td>1.801845</td>\n",
       "      <td>0.891803</td>\n",
       "      <td>1.307132</td>\n",
       "      <td>1.023164</td>\n",
       "      <td>4.972733</td>\n",
       "      <td>1.828686</td>\n",
       "    </tr>\n",
       "    <tr>\n",
       "      <th>2519</th>\n",
       "      <td>1.300142</td>\n",
       "      <td>1.718824</td>\n",
       "      <td>1.153388</td>\n",
       "      <td>2.550589</td>\n",
       "      <td>4.079260</td>\n",
       "      <td>2.034305</td>\n",
       "      <td>6.046591</td>\n",
       "      <td>2.826348</td>\n",
       "      <td>1.751638</td>\n",
       "      <td>2.550038</td>\n",
       "      <td>...</td>\n",
       "      <td>3.848218</td>\n",
       "      <td>3.389472</td>\n",
       "      <td>2.719902</td>\n",
       "      <td>0.823341</td>\n",
       "      <td>1.818023</td>\n",
       "      <td>0.895494</td>\n",
       "      <td>1.309003</td>\n",
       "      <td>1.004408</td>\n",
       "      <td>4.940711</td>\n",
       "      <td>1.807141</td>\n",
       "    </tr>\n",
       "    <tr>\n",
       "      <th>2520</th>\n",
       "      <td>1.293295</td>\n",
       "      <td>1.719620</td>\n",
       "      <td>1.137658</td>\n",
       "      <td>2.529342</td>\n",
       "      <td>4.012032</td>\n",
       "      <td>2.014369</td>\n",
       "      <td>6.082804</td>\n",
       "      <td>2.819612</td>\n",
       "      <td>1.745658</td>\n",
       "      <td>2.518714</td>\n",
       "      <td>...</td>\n",
       "      <td>3.797204</td>\n",
       "      <td>3.382494</td>\n",
       "      <td>2.768101</td>\n",
       "      <td>0.835147</td>\n",
       "      <td>1.822314</td>\n",
       "      <td>0.894246</td>\n",
       "      <td>1.307811</td>\n",
       "      <td>0.993716</td>\n",
       "      <td>4.993166</td>\n",
       "      <td>1.817311</td>\n",
       "    </tr>\n",
       "  </tbody>\n",
       "</table>\n",
       "<p>2521 rows × 500 columns</p>\n",
       "</div>"
      ],
      "text/plain": [
       "           0         1         2         3         4         5         6    \\\n",
       "0     1.000000  1.000000  1.000000  1.000000  1.000000  1.000000  1.000000   \n",
       "1     0.994829  1.001452  0.991375  0.996180  0.985518  1.005149  0.986079   \n",
       "2     0.986618  0.992946  0.984514  1.000090  0.980815  0.991619  0.990725   \n",
       "3     0.999237  0.994883  0.999137  1.004339  0.971555  0.977117  0.999328   \n",
       "4     1.012694  0.994697  0.992862  1.015835  0.974657  0.966596  1.004078   \n",
       "...        ...       ...       ...       ...       ...       ...       ...   \n",
       "2516  1.291666  1.679350  1.125618  2.596976  4.062739  2.077499  5.949573   \n",
       "2517  1.286763  1.679915  1.134489  2.542621  4.116204  2.042782  6.015116   \n",
       "2518  1.284890  1.700851  1.161866  2.535081  4.068971  2.006648  6.055738   \n",
       "2519  1.300142  1.718824  1.153388  2.550589  4.079260  2.034305  6.046591   \n",
       "2520  1.293295  1.719620  1.137658  2.529342  4.012032  2.014369  6.082804   \n",
       "\n",
       "           7         8         9    ...       490       491       492  \\\n",
       "0     1.000000  1.000000  1.000000  ...  1.000000  1.000000  1.000000   \n",
       "1     0.982687  1.000304  1.008957  ...  1.006972  1.014192  1.009288   \n",
       "2     0.977157  0.994915  1.024723  ...  1.011818  1.002855  1.026400   \n",
       "3     0.978951  1.014405  1.023216  ...  1.004422  0.996115  1.029381   \n",
       "4     0.990968  1.009452  1.005383  ...  1.009438  0.981149  1.055953   \n",
       "...        ...       ...       ...  ...       ...       ...       ...   \n",
       "2516  2.776167  1.918229  2.639713  ...  3.776632  3.302812  2.661124   \n",
       "2517  2.785469  1.827497  2.642314  ...  3.825934  3.307303  2.738956   \n",
       "2518  2.804196  1.779833  2.621916  ...  3.784063  3.358061  2.726545   \n",
       "2519  2.826348  1.751638  2.550038  ...  3.848218  3.389472  2.719902   \n",
       "2520  2.819612  1.745658  2.518714  ...  3.797204  3.382494  2.768101   \n",
       "\n",
       "           493       494       495       496       497       498       499  \n",
       "0     1.000000  1.000000  1.000000  1.000000  1.000000  1.000000  1.000000  \n",
       "1     1.016821  1.014363  1.005020  1.025099  0.980120  0.999304  0.999458  \n",
       "2     1.019771  1.028026  1.020495  1.014321  0.978604  0.992454  1.005803  \n",
       "3     1.011544  1.024034  1.037443  1.028435  0.991370  0.992038  1.007210  \n",
       "4     1.019758  1.011521  1.045456  1.043779  0.987827  1.010194  1.008417  \n",
       "...        ...       ...       ...       ...       ...       ...       ...  \n",
       "2516  0.813577  1.805100  0.872425  1.314814  1.058428  4.865787  1.830655  \n",
       "2517  0.796777  1.798474  0.869613  1.316038  1.057914  4.868088  1.842794  \n",
       "2518  0.798061  1.801845  0.891803  1.307132  1.023164  4.972733  1.828686  \n",
       "2519  0.823341  1.818023  0.895494  1.309003  1.004408  4.940711  1.807141  \n",
       "2520  0.835147  1.822314  0.894246  1.307811  0.993716  4.993166  1.817311  \n",
       "\n",
       "[2521 rows x 500 columns]"
      ]
     },
     "execution_count": 181,
     "metadata": {},
     "output_type": "execute_result"
    }
   ],
   "source": [
    "# Run the Monte Carlo simulation to forecast 10 years cumulative returns\n",
    "spy_heavy_simulation.calc_cumulative_return()\n"
   ]
  },
  {
   "cell_type": "code",
   "execution_count": 182,
   "metadata": {},
   "outputs": [
    {
     "data": {
      "text/plain": [
       "<AxesSubplot:title={'center':'500 Simulations of Cumulative Portfolio Return Trajectories Over the Next 2520 Trading Days.'}>"
      ]
     },
     "execution_count": 182,
     "metadata": {},
     "output_type": "execute_result"
    },
    {
     "data": {
      "image/png": "[encoded data removed]",
      "text/plain": [
       "<Figure size 432x288 with 1 Axes>"
      ]
     },
     "metadata": {
      "needs_background": "light"
     },
     "output_type": "display_data"
    }
   ],
   "source": [
    "# Visualize the 10-year Monte Carlo simulation by creating an\n",
    "# overlay line plot\n",
    "spy_heavy_simulation.plot_simulation()\n"
   ]
  },
  {
   "cell_type": "code",
   "execution_count": 183,
   "metadata": {},
   "outputs": [
    {
     "data": {
      "text/plain": [
       "<AxesSubplot:title={'center':'Distribution of Final Cumuluative Returns Across All 500 Simulations'}, ylabel='Frequency'>"
      ]
     },
     "execution_count": 183,
     "metadata": {},
     "output_type": "execute_result"
    },
    {
     "data": {
      "image/png": "[encoded data removed]",
      "text/plain": [
       "<Figure size 432x288 with 1 Axes>"
      ]
     },
     "metadata": {
      "needs_background": "light"
     },
     "output_type": "display_data"
    }
   ],
   "source": [
    "# Visualize the probability distribution of the 10-year Monte Carlo simulation \n",
    "# by plotting a histogram\n",
    "spy_heavy_simulation.plot_distribution()\n"
   ]
  },
  {
   "cell_type": "code",
   "execution_count": 184,
   "metadata": {},
   "outputs": [
    {
     "data": {
      "text/plain": [
       "count           500.000000\n",
       "mean              2.921811\n",
       "std               1.785144\n",
       "min               0.554728\n",
       "25%               1.683589\n",
       "50%               2.565321\n",
       "75%               3.573284\n",
       "max              13.372584\n",
       "95% CI Lower      0.861003\n",
       "95% CI Upper      7.988668\n",
       "Name: 2520, dtype: float64"
      ]
     },
     "execution_count": 184,
     "metadata": {},
     "output_type": "execute_result"
    }
   ],
   "source": [
    "# Generate summary statistics from the 10-year Monte Carlo simulation results\n",
    "# Save the results as a variable\n",
    "spy_heavy_summary = spy_heavy_simulation.summarize_cumulative_return()\n",
    "\n",
    "\n",
    "# Review the 10-year Monte Carlo summary statistics\n",
    "spy_heavy_summary"
   ]
  },
  {
   "cell_type": "markdown",
   "metadata": {},
   "source": [
    "### Answer the following questions:"
   ]
  },
  {
   "cell_type": "markdown",
   "metadata": {},
   "source": [
    "#### Question: Using the current value of only the stock and bond portion of the member's portfolio and the summary statistics that you generated from the new Monte Carlo simulation, what are the lower and upper bounds for the expected value of the portfolio (with the new weights) with a 95% confidence interval?"
   ]
  },
  {
   "cell_type": "code",
   "execution_count": 185,
   "metadata": {},
   "outputs": [
    {
     "data": {
      "text/plain": [
       "62814.3"
      ]
     },
     "execution_count": 185,
     "metadata": {},
     "output_type": "execute_result"
    }
   ],
   "source": [
    "# Print the current balance of the stock and bond portion of the members portfolio\n",
    "total_stocks_bonds\n"
   ]
  },
  {
   "cell_type": "code",
   "execution_count": 186,
   "metadata": {},
   "outputs": [
    {
     "name": "stdout",
     "output_type": "stream",
     "text": [
      "There is a 95% chance that the portfolio with a 80% weight in SPY over the next 30 years will end within in the range of $ 54083.31 and $ 501802.61.\n"
     ]
    }
   ],
   "source": [
    "# Use the lower and upper `95%` confidence intervals to calculate the range of the possible outcomes for the current stock/bond portfolio\n",
    "ci_lower_thirty_cumulative_return = spy_heavy_summary[8] * total_stocks_bonds\n",
    "ci_upper_thirty_cumulative_return = spy_heavy_summary[9] * total_stocks_bonds\n",
    "\n",
    "# Print the result of your calculations\n",
    "print(f\"There is a 95% chance that the portfolio\"\n",
    "      f\" with a 80% weight in SPY over the next 30 years will end within in the range of\"\n",
    "      f\" ${ci_lower_thirty_cumulative_return: .2f} and ${ci_upper_thirty_cumulative_return: .2f}.\")\n"
   ]
  },
  {
   "cell_type": "markdown",
   "metadata": {},
   "source": [
    "#### Question: Will weighting the portfolio more heavily to stocks allow the credit union members to retire after only 10 years?"
   ]
  },
  {
   "cell_type": "raw",
   "metadata": {},
   "source": [
    "Weighting the portfolio more heavily to stocks will not increase the chances of credit union members to retire after only 10 years. Since this strategy is more risky it increases the standard deviation of possible returns and so the range of potential portfolios that fall within the 95% confidence intervals will be larger. There is a 95% chance that the portfolio will not exceed $501,802 after 10 years is not enough to retire off of... Unless you are living in a country with a significantly lower cost of living."
   ]
  },
  {
   "cell_type": "code",
   "execution_count": null,
   "metadata": {},
   "outputs": [],
   "source": []
  }
 ],
 "metadata": {
  "kernelspec": {
   "display_name": "Python 3 (ipykernel)",
   "language": "python",
   "name": "python3"
  },
  "language_info": {
   "codemirror_mode": {
    "name": "ipython",
    "version": 3
   },
   "file_extension": ".py",
   "mimetype": "text/x-python",
   "name": "python",
   "nbconvert_exporter": "python",
   "pygments_lexer": "ipython3",
   "version": "3.7.11"
  }
 },
 "nbformat": 4,
 "nbformat_minor": 4
}
